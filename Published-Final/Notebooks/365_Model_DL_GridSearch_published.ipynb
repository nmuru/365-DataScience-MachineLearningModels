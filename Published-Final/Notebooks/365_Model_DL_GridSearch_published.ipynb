{
  "cells": [
    {
      "cell_type": "code",
      "execution_count": null,
      "id": "5b420102",
      "metadata": {
        "id": "5b420102"
      },
      "outputs": [],
      "source": [
        "import pandas as pd\n",
        "import numpy as np\n",
        "from sklearn.compose import ColumnTransformer\n",
        "\n",
        "from sklearn.preprocessing import OneHotEncoder\n",
        "from sklearn.model_selection import train_test_split\n",
        "from sklearn.metrics import balanced_accuracy_score, precision_recall_fscore_support\n",
        "from sklearn.tree import DecisionTreeClassifier\n",
        "from sklearn.metrics import confusion_matrix\n",
        "from sklearn.metrics import accuracy_score\n",
        "\n",
        "from sklearn.metrics import precision_score, recall_score, f1_score\n"
      ]
    },
    {
      "cell_type": "markdown",
      "id": "xuz3HF3PtRub",
      "metadata": {
        "id": "xuz3HF3PtRub"
      },
      "source": [
        "##XGBoost Grid Search with features other than course data"
      ]
    },
    {
      "cell_type": "code",
      "execution_count": null,
      "id": "UYdwCfEPsuoJ",
      "metadata": {
        "id": "UYdwCfEPsuoJ"
      },
      "outputs": [],
      "source": [
        "from sklearn.model_selection import GridSearchCV\n",
        "from sklearn.model_selection import RepeatedStratifiedKFold"
      ]
    },
    {
      "cell_type": "code",
      "execution_count": null,
      "id": "OjQGBEnJxmxD",
      "metadata": {
        "id": "OjQGBEnJxmxD"
      },
      "outputs": [],
      "source": [
        "params = {\n",
        "        'learning_rate':[0.1,0.01,0.001,0.005],\n",
        "        'min_child_weight': [1, 5, 10],\n",
        "        'gamma': [0.5, 1, 1.5, 2, 5],\n",
        "        'subsample': [0.6, 0.8, 1.0],\n",
        "        'colsample_bytree': [0.6, 0.8, 1.0]         \n",
        "        }"
      ]
    },
    {
      "cell_type": "code",
      "execution_count": null,
      "id": "wrYhgEO_zJb2",
      "metadata": {
        "id": "wrYhgEO_zJb2"
      },
      "outputs": [],
      "source": [
        "cv=RepeatedStratifiedKFold(n_splits=2,n_repeats=1)"
      ]
    },
    {
      "cell_type": "code",
      "execution_count": null,
      "id": "pj5mPRlFyFsE",
      "metadata": {
        "id": "pj5mPRlFyFsE"
      },
      "outputs": [],
      "source": [
        "xgbgs = xgb.XGBClassifier(n_estimators=100)\n",
        "                      # , objective='binary:logistic',\n",
        "                    # silent=True, nthread=1)"
      ]
    },
    {
      "cell_type": "code",
      "execution_count": null,
      "id": "n18JHGwPycSh",
      "metadata": {
        "id": "n18JHGwPycSh"
      },
      "outputs": [],
      "source": [
        "grid = GridSearchCV(estimator=xgbgs, param_grid=params, scoring='precision', n_jobs=-1, cv=cv, verbose=1 )"
      ]
    },
    {
      "cell_type": "code",
      "execution_count": null,
      "id": "C5u0WFiu0Sw7",
      "metadata": {
        "colab": {
          "base_uri": "https://localhost:8080/"
        },
        "id": "C5u0WFiu0Sw7",
        "outputId": "bb13fc9f-9b2b-4916-8a59-be6310ee880b"
      },
      "outputs": [
        {
          "name": "stdout",
          "output_type": "stream",
          "text": [
            "Fitting 2 folds for each of 540 candidates, totalling 1080 fits\n"
          ]
        },
        {
          "data": {
            "text/plain": [
              "GridSearchCV(cv=RepeatedStratifiedKFold(n_repeats=1, n_splits=2, random_state=None),\n",
              "             estimator=XGBClassifier(), n_jobs=-1,\n",
              "             param_grid={'colsample_bytree': [0.6, 0.8, 1.0],\n",
              "                         'gamma': [0.5, 1, 1.5, 2, 5],\n",
              "                         'learning_rate': [0.1, 0.01, 0.001, 0.005],\n",
              "                         'min_child_weight': [1, 5, 10],\n",
              "                         'subsample': [0.6, 0.8, 1.0]},\n",
              "             scoring='precision', verbose=1)"
            ]
          },
          "execution_count": 15,
          "metadata": {},
          "output_type": "execute_result"
        }
      ],
      "source": [
        "grid.fit(X_train,y_train)"
      ]
    },
    {
      "cell_type": "code",
      "execution_count": null,
      "id": "X4k6wyJV0Szw",
      "metadata": {
        "colab": {
          "base_uri": "https://localhost:8080/",
          "height": 835
        },
        "id": "X4k6wyJV0Szw",
        "outputId": "ad91a89a-adf1-4425-9e14-52396de29af4"
      },
      "outputs": [
        {
          "data": {
            "text/html": [
              "\n",
              "  <div id=\"df-2dd6c2f3-18a2-4527-bb18-dace4c9d1b9b\">\n",
              "    <div class=\"colab-df-container\">\n",
              "      <div>\n",
              "<style scoped>\n",
              "    .dataframe tbody tr th:only-of-type {\n",
              "        vertical-align: middle;\n",
              "    }\n",
              "\n",
              "    .dataframe tbody tr th {\n",
              "        vertical-align: top;\n",
              "    }\n",
              "\n",
              "    .dataframe thead th {\n",
              "        text-align: right;\n",
              "    }\n",
              "</style>\n",
              "<table border=\"1\" class=\"dataframe\">\n",
              "  <thead>\n",
              "    <tr style=\"text-align: right;\">\n",
              "      <th></th>\n",
              "      <th>mean_fit_time</th>\n",
              "      <th>std_fit_time</th>\n",
              "      <th>mean_score_time</th>\n",
              "      <th>std_score_time</th>\n",
              "      <th>param_colsample_bytree</th>\n",
              "      <th>param_gamma</th>\n",
              "      <th>param_learning_rate</th>\n",
              "      <th>param_min_child_weight</th>\n",
              "      <th>param_subsample</th>\n",
              "      <th>params</th>\n",
              "      <th>split0_test_score</th>\n",
              "      <th>split1_test_score</th>\n",
              "      <th>mean_test_score</th>\n",
              "      <th>std_test_score</th>\n",
              "      <th>rank_test_score</th>\n",
              "    </tr>\n",
              "  </thead>\n",
              "  <tbody>\n",
              "    <tr>\n",
              "      <th>0</th>\n",
              "      <td>8.608196</td>\n",
              "      <td>0.069450</td>\n",
              "      <td>0.079913</td>\n",
              "      <td>0.003844</td>\n",
              "      <td>0.6</td>\n",
              "      <td>0.5</td>\n",
              "      <td>0.1</td>\n",
              "      <td>1</td>\n",
              "      <td>0.6</td>\n",
              "      <td>{'colsample_bytree': 0.6, 'gamma': 0.5, 'learn...</td>\n",
              "      <td>0.926876</td>\n",
              "      <td>0.919400</td>\n",
              "      <td>0.923138</td>\n",
              "      <td>0.003738</td>\n",
              "      <td>424</td>\n",
              "    </tr>\n",
              "    <tr>\n",
              "      <th>1</th>\n",
              "      <td>7.514906</td>\n",
              "      <td>0.062437</td>\n",
              "      <td>0.081028</td>\n",
              "      <td>0.002368</td>\n",
              "      <td>0.6</td>\n",
              "      <td>0.5</td>\n",
              "      <td>0.1</td>\n",
              "      <td>1</td>\n",
              "      <td>0.8</td>\n",
              "      <td>{'colsample_bytree': 0.6, 'gamma': 0.5, 'learn...</td>\n",
              "      <td>0.927221</td>\n",
              "      <td>0.922285</td>\n",
              "      <td>0.924753</td>\n",
              "      <td>0.002468</td>\n",
              "      <td>373</td>\n",
              "    </tr>\n",
              "    <tr>\n",
              "      <th>2</th>\n",
              "      <td>6.953359</td>\n",
              "      <td>0.011724</td>\n",
              "      <td>0.094065</td>\n",
              "      <td>0.005662</td>\n",
              "      <td>0.6</td>\n",
              "      <td>0.5</td>\n",
              "      <td>0.1</td>\n",
              "      <td>1</td>\n",
              "      <td>1.0</td>\n",
              "      <td>{'colsample_bytree': 0.6, 'gamma': 0.5, 'learn...</td>\n",
              "      <td>0.931992</td>\n",
              "      <td>0.925401</td>\n",
              "      <td>0.928697</td>\n",
              "      <td>0.003296</td>\n",
              "      <td>177</td>\n",
              "    </tr>\n",
              "    <tr>\n",
              "      <th>3</th>\n",
              "      <td>8.329368</td>\n",
              "      <td>0.015628</td>\n",
              "      <td>0.086037</td>\n",
              "      <td>0.005685</td>\n",
              "      <td>0.6</td>\n",
              "      <td>0.5</td>\n",
              "      <td>0.1</td>\n",
              "      <td>5</td>\n",
              "      <td>0.6</td>\n",
              "      <td>{'colsample_bytree': 0.6, 'gamma': 0.5, 'learn...</td>\n",
              "      <td>0.923295</td>\n",
              "      <td>0.921846</td>\n",
              "      <td>0.922571</td>\n",
              "      <td>0.000725</td>\n",
              "      <td>431</td>\n",
              "    </tr>\n",
              "    <tr>\n",
              "      <th>4</th>\n",
              "      <td>7.511575</td>\n",
              "      <td>0.023605</td>\n",
              "      <td>0.083516</td>\n",
              "      <td>0.004721</td>\n",
              "      <td>0.6</td>\n",
              "      <td>0.5</td>\n",
              "      <td>0.1</td>\n",
              "      <td>5</td>\n",
              "      <td>0.8</td>\n",
              "      <td>{'colsample_bytree': 0.6, 'gamma': 0.5, 'learn...</td>\n",
              "      <td>0.922787</td>\n",
              "      <td>0.922495</td>\n",
              "      <td>0.922641</td>\n",
              "      <td>0.000146</td>\n",
              "      <td>430</td>\n",
              "    </tr>\n",
              "    <tr>\n",
              "      <th>...</th>\n",
              "      <td>...</td>\n",
              "      <td>...</td>\n",
              "      <td>...</td>\n",
              "      <td>...</td>\n",
              "      <td>...</td>\n",
              "      <td>...</td>\n",
              "      <td>...</td>\n",
              "      <td>...</td>\n",
              "      <td>...</td>\n",
              "      <td>...</td>\n",
              "      <td>...</td>\n",
              "      <td>...</td>\n",
              "      <td>...</td>\n",
              "      <td>...</td>\n",
              "      <td>...</td>\n",
              "    </tr>\n",
              "    <tr>\n",
              "      <th>535</th>\n",
              "      <td>12.005625</td>\n",
              "      <td>0.082091</td>\n",
              "      <td>0.072457</td>\n",
              "      <td>0.001447</td>\n",
              "      <td>1.0</td>\n",
              "      <td>5</td>\n",
              "      <td>0.005</td>\n",
              "      <td>5</td>\n",
              "      <td>0.8</td>\n",
              "      <td>{'colsample_bytree': 1.0, 'gamma': 5, 'learnin...</td>\n",
              "      <td>0.930799</td>\n",
              "      <td>0.927593</td>\n",
              "      <td>0.929196</td>\n",
              "      <td>0.001603</td>\n",
              "      <td>95</td>\n",
              "    </tr>\n",
              "    <tr>\n",
              "      <th>536</th>\n",
              "      <td>8.955644</td>\n",
              "      <td>0.086556</td>\n",
              "      <td>0.075272</td>\n",
              "      <td>0.002666</td>\n",
              "      <td>1.0</td>\n",
              "      <td>5</td>\n",
              "      <td>0.005</td>\n",
              "      <td>5</td>\n",
              "      <td>1.0</td>\n",
              "      <td>{'colsample_bytree': 1.0, 'gamma': 5, 'learnin...</td>\n",
              "      <td>0.930664</td>\n",
              "      <td>0.927664</td>\n",
              "      <td>0.929164</td>\n",
              "      <td>0.001500</td>\n",
              "      <td>105</td>\n",
              "    </tr>\n",
              "    <tr>\n",
              "      <th>537</th>\n",
              "      <td>12.231062</td>\n",
              "      <td>0.035023</td>\n",
              "      <td>0.075766</td>\n",
              "      <td>0.002953</td>\n",
              "      <td>1.0</td>\n",
              "      <td>5</td>\n",
              "      <td>0.005</td>\n",
              "      <td>10</td>\n",
              "      <td>0.6</td>\n",
              "      <td>{'colsample_bytree': 1.0, 'gamma': 5, 'learnin...</td>\n",
              "      <td>0.928225</td>\n",
              "      <td>0.921965</td>\n",
              "      <td>0.925095</td>\n",
              "      <td>0.003130</td>\n",
              "      <td>357</td>\n",
              "    </tr>\n",
              "    <tr>\n",
              "      <th>538</th>\n",
              "      <td>10.794033</td>\n",
              "      <td>0.040032</td>\n",
              "      <td>0.071156</td>\n",
              "      <td>0.000542</td>\n",
              "      <td>1.0</td>\n",
              "      <td>5</td>\n",
              "      <td>0.005</td>\n",
              "      <td>10</td>\n",
              "      <td>0.8</td>\n",
              "      <td>{'colsample_bytree': 1.0, 'gamma': 5, 'learnin...</td>\n",
              "      <td>0.928086</td>\n",
              "      <td>0.927593</td>\n",
              "      <td>0.927839</td>\n",
              "      <td>0.000246</td>\n",
              "      <td>231</td>\n",
              "    </tr>\n",
              "    <tr>\n",
              "      <th>539</th>\n",
              "      <td>8.518864</td>\n",
              "      <td>0.349461</td>\n",
              "      <td>0.061741</td>\n",
              "      <td>0.013541</td>\n",
              "      <td>1.0</td>\n",
              "      <td>5</td>\n",
              "      <td>0.005</td>\n",
              "      <td>10</td>\n",
              "      <td>1.0</td>\n",
              "      <td>{'colsample_bytree': 1.0, 'gamma': 5, 'learnin...</td>\n",
              "      <td>0.930664</td>\n",
              "      <td>0.927664</td>\n",
              "      <td>0.929164</td>\n",
              "      <td>0.001500</td>\n",
              "      <td>105</td>\n",
              "    </tr>\n",
              "  </tbody>\n",
              "</table>\n",
              "<p>540 rows × 15 columns</p>\n",
              "</div>\n",
              "      <button class=\"colab-df-convert\" onclick=\"convertToInteractive('df-2dd6c2f3-18a2-4527-bb18-dace4c9d1b9b')\"\n",
              "              title=\"Convert this dataframe to an interactive table.\"\n",
              "              style=\"display:none;\">\n",
              "        \n",
              "  <svg xmlns=\"http://www.w3.org/2000/svg\" height=\"24px\"viewBox=\"0 0 24 24\"\n",
              "       width=\"24px\">\n",
              "    <path d=\"M0 0h24v24H0V0z\" fill=\"none\"/>\n",
              "    <path d=\"M18.56 5.44l.94 2.06.94-2.06 2.06-.94-2.06-.94-.94-2.06-.94 2.06-2.06.94zm-11 1L8.5 8.5l.94-2.06 2.06-.94-2.06-.94L8.5 2.5l-.94 2.06-2.06.94zm10 10l.94 2.06.94-2.06 2.06-.94-2.06-.94-.94-2.06-.94 2.06-2.06.94z\"/><path d=\"M17.41 7.96l-1.37-1.37c-.4-.4-.92-.59-1.43-.59-.52 0-1.04.2-1.43.59L10.3 9.45l-7.72 7.72c-.78.78-.78 2.05 0 2.83L4 21.41c.39.39.9.59 1.41.59.51 0 1.02-.2 1.41-.59l7.78-7.78 2.81-2.81c.8-.78.8-2.07 0-2.86zM5.41 20L4 18.59l7.72-7.72 1.47 1.35L5.41 20z\"/>\n",
              "  </svg>\n",
              "      </button>\n",
              "      \n",
              "  <style>\n",
              "    .colab-df-container {\n",
              "      display:flex;\n",
              "      flex-wrap:wrap;\n",
              "      gap: 12px;\n",
              "    }\n",
              "\n",
              "    .colab-df-convert {\n",
              "      background-color: #E8F0FE;\n",
              "      border: none;\n",
              "      border-radius: 50%;\n",
              "      cursor: pointer;\n",
              "      display: none;\n",
              "      fill: #1967D2;\n",
              "      height: 32px;\n",
              "      padding: 0 0 0 0;\n",
              "      width: 32px;\n",
              "    }\n",
              "\n",
              "    .colab-df-convert:hover {\n",
              "      background-color: #E2EBFA;\n",
              "      box-shadow: 0px 1px 2px rgba(60, 64, 67, 0.3), 0px 1px 3px 1px rgba(60, 64, 67, 0.15);\n",
              "      fill: #174EA6;\n",
              "    }\n",
              "\n",
              "    [theme=dark] .colab-df-convert {\n",
              "      background-color: #3B4455;\n",
              "      fill: #D2E3FC;\n",
              "    }\n",
              "\n",
              "    [theme=dark] .colab-df-convert:hover {\n",
              "      background-color: #434B5C;\n",
              "      box-shadow: 0px 1px 3px 1px rgba(0, 0, 0, 0.15);\n",
              "      filter: drop-shadow(0px 1px 2px rgba(0, 0, 0, 0.3));\n",
              "      fill: #FFFFFF;\n",
              "    }\n",
              "  </style>\n",
              "\n",
              "      <script>\n",
              "        const buttonEl =\n",
              "          document.querySelector('#df-2dd6c2f3-18a2-4527-bb18-dace4c9d1b9b button.colab-df-convert');\n",
              "        buttonEl.style.display =\n",
              "          google.colab.kernel.accessAllowed ? 'block' : 'none';\n",
              "\n",
              "        async function convertToInteractive(key) {\n",
              "          const element = document.querySelector('#df-2dd6c2f3-18a2-4527-bb18-dace4c9d1b9b');\n",
              "          const dataTable =\n",
              "            await google.colab.kernel.invokeFunction('convertToInteractive',\n",
              "                                                     [key], {});\n",
              "          if (!dataTable) return;\n",
              "\n",
              "          const docLinkHtml = 'Like what you see? Visit the ' +\n",
              "            '<a target=\"_blank\" href=https://colab.research.google.com/notebooks/data_table.ipynb>data table notebook</a>'\n",
              "            + ' to learn more about interactive tables.';\n",
              "          element.innerHTML = '';\n",
              "          dataTable['output_type'] = 'display_data';\n",
              "          await google.colab.output.renderOutput(dataTable, element);\n",
              "          const docLink = document.createElement('div');\n",
              "          docLink.innerHTML = docLinkHtml;\n",
              "          element.appendChild(docLink);\n",
              "        }\n",
              "      </script>\n",
              "    </div>\n",
              "  </div>\n",
              "  "
            ],
            "text/plain": [
              "     mean_fit_time  std_fit_time  mean_score_time  std_score_time  \\\n",
              "0         8.608196      0.069450         0.079913        0.003844   \n",
              "1         7.514906      0.062437         0.081028        0.002368   \n",
              "2         6.953359      0.011724         0.094065        0.005662   \n",
              "3         8.329368      0.015628         0.086037        0.005685   \n",
              "4         7.511575      0.023605         0.083516        0.004721   \n",
              "..             ...           ...              ...             ...   \n",
              "535      12.005625      0.082091         0.072457        0.001447   \n",
              "536       8.955644      0.086556         0.075272        0.002666   \n",
              "537      12.231062      0.035023         0.075766        0.002953   \n",
              "538      10.794033      0.040032         0.071156        0.000542   \n",
              "539       8.518864      0.349461         0.061741        0.013541   \n",
              "\n",
              "    param_colsample_bytree param_gamma param_learning_rate  \\\n",
              "0                      0.6         0.5                 0.1   \n",
              "1                      0.6         0.5                 0.1   \n",
              "2                      0.6         0.5                 0.1   \n",
              "3                      0.6         0.5                 0.1   \n",
              "4                      0.6         0.5                 0.1   \n",
              "..                     ...         ...                 ...   \n",
              "535                    1.0           5               0.005   \n",
              "536                    1.0           5               0.005   \n",
              "537                    1.0           5               0.005   \n",
              "538                    1.0           5               0.005   \n",
              "539                    1.0           5               0.005   \n",
              "\n",
              "    param_min_child_weight param_subsample  \\\n",
              "0                        1             0.6   \n",
              "1                        1             0.8   \n",
              "2                        1             1.0   \n",
              "3                        5             0.6   \n",
              "4                        5             0.8   \n",
              "..                     ...             ...   \n",
              "535                      5             0.8   \n",
              "536                      5             1.0   \n",
              "537                     10             0.6   \n",
              "538                     10             0.8   \n",
              "539                     10             1.0   \n",
              "\n",
              "                                                params  split0_test_score  \\\n",
              "0    {'colsample_bytree': 0.6, 'gamma': 0.5, 'learn...           0.926876   \n",
              "1    {'colsample_bytree': 0.6, 'gamma': 0.5, 'learn...           0.927221   \n",
              "2    {'colsample_bytree': 0.6, 'gamma': 0.5, 'learn...           0.931992   \n",
              "3    {'colsample_bytree': 0.6, 'gamma': 0.5, 'learn...           0.923295   \n",
              "4    {'colsample_bytree': 0.6, 'gamma': 0.5, 'learn...           0.922787   \n",
              "..                                                 ...                ...   \n",
              "535  {'colsample_bytree': 1.0, 'gamma': 5, 'learnin...           0.930799   \n",
              "536  {'colsample_bytree': 1.0, 'gamma': 5, 'learnin...           0.930664   \n",
              "537  {'colsample_bytree': 1.0, 'gamma': 5, 'learnin...           0.928225   \n",
              "538  {'colsample_bytree': 1.0, 'gamma': 5, 'learnin...           0.928086   \n",
              "539  {'colsample_bytree': 1.0, 'gamma': 5, 'learnin...           0.930664   \n",
              "\n",
              "     split1_test_score  mean_test_score  std_test_score  rank_test_score  \n",
              "0             0.919400         0.923138        0.003738              424  \n",
              "1             0.922285         0.924753        0.002468              373  \n",
              "2             0.925401         0.928697        0.003296              177  \n",
              "3             0.921846         0.922571        0.000725              431  \n",
              "4             0.922495         0.922641        0.000146              430  \n",
              "..                 ...              ...             ...              ...  \n",
              "535           0.927593         0.929196        0.001603               95  \n",
              "536           0.927664         0.929164        0.001500              105  \n",
              "537           0.921965         0.925095        0.003130              357  \n",
              "538           0.927593         0.927839        0.000246              231  \n",
              "539           0.927664         0.929164        0.001500              105  \n",
              "\n",
              "[540 rows x 15 columns]"
            ]
          },
          "execution_count": 16,
          "metadata": {},
          "output_type": "execute_result"
        }
      ],
      "source": [
        "results=pd.DataFrame(grid.cv_results_)\n",
        "results"
      ]
    },
    {
      "cell_type": "code",
      "execution_count": null,
      "id": "UjrHl7a1QUYi",
      "metadata": {
        "colab": {
          "base_uri": "https://localhost:8080/"
        },
        "id": "UjrHl7a1QUYi",
        "outputId": "67859f92-56af-43fe-97b5-1f737dc59967"
      },
      "outputs": [
        {
          "name": "stdout",
          "output_type": "stream",
          "text": [
            "<class 'pandas.core.frame.DataFrame'>\n",
            "RangeIndex: 540 entries, 0 to 539\n",
            "Data columns (total 15 columns):\n",
            " #   Column                  Non-Null Count  Dtype  \n",
            "---  ------                  --------------  -----  \n",
            " 0   mean_fit_time           540 non-null    float64\n",
            " 1   std_fit_time            540 non-null    float64\n",
            " 2   mean_score_time         540 non-null    float64\n",
            " 3   std_score_time          540 non-null    float64\n",
            " 4   param_colsample_bytree  540 non-null    object \n",
            " 5   param_gamma             540 non-null    object \n",
            " 6   param_learning_rate     540 non-null    object \n",
            " 7   param_min_child_weight  540 non-null    object \n",
            " 8   param_subsample         540 non-null    object \n",
            " 9   params                  540 non-null    object \n",
            " 10  split0_test_score       540 non-null    float64\n",
            " 11  split1_test_score       540 non-null    float64\n",
            " 12  mean_test_score         540 non-null    float64\n",
            " 13  std_test_score          540 non-null    float64\n",
            " 14  rank_test_score         540 non-null    int32  \n",
            "dtypes: float64(8), int32(1), object(6)\n",
            "memory usage: 61.3+ KB\n"
          ]
        }
      ],
      "source": [
        "results.info()"
      ]
    },
    {
      "cell_type": "code",
      "execution_count": null,
      "id": "cDOQsiCc0S3U",
      "metadata": {
        "id": "cDOQsiCc0S3U"
      },
      "outputs": [],
      "source": [
        "results.to_csv('grid-xgboost-results.csv')"
      ]
    },
    {
      "cell_type": "code",
      "execution_count": null,
      "id": "4Lvg67NCOnmj",
      "metadata": {
        "id": "4Lvg67NCOnmj"
      },
      "outputs": [],
      "source": [
        "y_pred=grid.best_estimator_.predict(X_test)"
      ]
    },
    {
      "cell_type": "code",
      "execution_count": null,
      "id": "unR0-smM0S6d",
      "metadata": {
        "id": "unR0-smM0S6d"
      },
      "outputs": [],
      "source": [
        "y_prob=grid.best_estimator_.predict_proba(X_test)"
      ]
    },
    {
      "cell_type": "code",
      "execution_count": null,
      "id": "N5syuae3O3mp",
      "metadata": {
        "id": "N5syuae3O3mp"
      },
      "outputs": [],
      "source": [
        "y_testprob = grid.best_estimator_.predict_proba(test)\n",
        "results_df = pd.DataFrame(data={'id':test_df['id'], 'target':y_test[:,1]})\n",
        "results_df.to_csv('submission-grid-search-xgb-porto-01.csv', index=False)"
      ]
    },
    {
      "cell_type": "code",
      "execution_count": null,
      "id": "3JmYk2LcPP-Q",
      "metadata": {
        "colab": {
          "base_uri": "https://localhost:8080/"
        },
        "id": "3JmYk2LcPP-Q",
        "outputId": "3fd9dbfc-4424-44ef-e2e9-9001a0620017"
      },
      "outputs": [
        {
          "data": {
            "text/plain": [
              "XGBClassifier(colsample_bytree=1.0, gamma=0.5, learning_rate=0.001,\n",
              "              subsample=1.0)"
            ]
          },
          "execution_count": 19,
          "metadata": {},
          "output_type": "execute_result"
        }
      ],
      "source": [
        "grid.best_estimator_"
      ]
    },
    {
      "cell_type": "code",
      "execution_count": null,
      "id": "KJ44AgscQEYy",
      "metadata": {
        "colab": {
          "base_uri": "https://localhost:8080/"
        },
        "id": "KJ44AgscQEYy",
        "outputId": "7c42a1f4-0a77-4e54-f687-ce390039076a"
      },
      "outputs": [
        {
          "data": {
            "text/plain": [
              "{'colsample_bytree': 1.0,\n",
              " 'gamma': 0.5,\n",
              " 'learning_rate': 0.001,\n",
              " 'min_child_weight': 1,\n",
              " 'subsample': 1.0}"
            ]
          },
          "execution_count": 22,
          "metadata": {},
          "output_type": "execute_result"
        }
      ],
      "source": [
        "grid.best_params_"
      ]
    },
    {
      "cell_type": "code",
      "execution_count": null,
      "id": "p0esiLFNO3pG",
      "metadata": {
        "colab": {
          "base_uri": "https://localhost:8080/"
        },
        "id": "p0esiLFNO3pG",
        "outputId": "e6c56e34-42c2-4602-8cff-32fc36a824f4"
      },
      "outputs": [
        {
          "data": {
            "text/plain": [
              "array([[6556,  121],\n",
              "       [  45,  506]])"
            ]
          },
          "execution_count": 20,
          "metadata": {},
          "output_type": "execute_result"
        }
      ],
      "source": [
        "confusion_matrix(y_pred,y_test)"
      ]
    },
    {
      "cell_type": "code",
      "execution_count": null,
      "id": "WRV8CVcsO3sT",
      "metadata": {
        "colab": {
          "base_uri": "https://localhost:8080/"
        },
        "id": "WRV8CVcsO3sT",
        "outputId": "edc56bdb-fc6c-43f9-9b8f-650d5f1e9854"
      },
      "outputs": [
        {
          "data": {
            "text/plain": [
              "(array([0.99318285, 0.80701754]),\n",
              " array([0.98187809, 0.91833031]),\n",
              " array([0.98749812, 0.85908319]),\n",
              " array([6677,  551]))"
            ]
          },
          "execution_count": 21,
          "metadata": {},
          "output_type": "execute_result"
        }
      ],
      "source": [
        "precision_recall_fscore_support(y_pred,y_test)"
      ]
    },
    {
      "cell_type": "code",
      "execution_count": null,
      "id": "bU0tCV-iwGKe",
      "metadata": {
        "id": "bU0tCV-iwGKe"
      },
      "outputs": [],
      "source": []
    },
    {
      "cell_type": "markdown",
      "id": "AXuf6C4l_ZlJ",
      "metadata": {
        "id": "AXuf6C4l_ZlJ"
      },
      "source": [
        "##Grid Search for Tensorflow - All Features"
      ]
    },
    {
      "cell_type": "code",
      "execution_count": null,
      "id": "3c027810-9bbe-42d4-8436-b6ac6ce956a4",
      "metadata": {
        "id": "3c027810-9bbe-42d4-8436-b6ac6ce956a4"
      },
      "outputs": [],
      "source": [
        "import tensorflow as tf"
      ]
    },
    {
      "cell_type": "code",
      "execution_count": null,
      "id": "bc04c71e-3dff-48fc-9d0d-3a98e3631b51",
      "metadata": {
        "id": "bc04c71e-3dff-48fc-9d0d-3a98e3631b51"
      },
      "outputs": [],
      "source": [
        "data=pd.read_csv('df_student_features_entiredata.csv')"
      ]
    },
    {
      "cell_type": "code",
      "execution_count": null,
      "id": "1a1ef9b1-b1c4-47d0-bb74-3eb703aff037",
      "metadata": {
        "id": "1a1ef9b1-b1c4-47d0-bb74-3eb703aff037"
      },
      "outputs": [],
      "source": [
        "data.drop(columns=['Unnamed: 0','subscriptiontype','onboard_flag'],inplace=True)"
      ]
    },
    {
      "cell_type": "code",
      "execution_count": null,
      "id": "fbec35ae-72a1-43ff-9570-b45b927474a0",
      "metadata": {
        "id": "fbec35ae-72a1-43ff-9570-b45b927474a0"
      },
      "outputs": [],
      "source": [
        "data.info()"
      ]
    },
    {
      "cell_type": "code",
      "execution_count": null,
      "id": "9sAOlgmciAN2",
      "metadata": {
        "id": "9sAOlgmciAN2"
      },
      "outputs": [],
      "source": [
        "from sklearn.preprocessing import label_binarize"
      ]
    },
    {
      "cell_type": "code",
      "execution_count": null,
      "id": "6f8acc36-f1c6-4ac5-b7a7-593a31b72422",
      "metadata": {
        "id": "6f8acc36-f1c6-4ac5-b7a7-593a31b72422"
      },
      "outputs": [],
      "source": [
        "from sklearn.preprocessing import StandardScaler"
      ]
    },
    {
      "cell_type": "code",
      "execution_count": null,
      "id": "3990372e-127c-4144-9fed-b56c448014cb",
      "metadata": {
        "id": "3990372e-127c-4144-9fed-b56c448014cb"
      },
      "outputs": [],
      "source": [
        "from sklearn.compose import make_column_transformer, make_column_selector"
      ]
    },
    {
      "cell_type": "code",
      "execution_count": null,
      "id": "xMKcFZ7ipn09",
      "metadata": {
        "colab": {
          "base_uri": "https://localhost:8080/"
        },
        "id": "xMKcFZ7ipn09",
        "outputId": "28a11412-a38a-4f07-d6d5-d7054d251ec2"
      },
      "outputs": [
        {
          "data": {
            "text/plain": [
              "0    33095\n",
              "1     3041\n",
              "Name: conversion, dtype: int64"
            ]
          },
          "execution_count": 56,
          "metadata": {},
          "output_type": "execute_result"
        }
      ],
      "source": [
        "data['conversion'].value_counts()"
      ]
    },
    {
      "cell_type": "code",
      "execution_count": null,
      "id": "b3035230-1f6e-452e-8243-ffb9a0a72630",
      "metadata": {
        "id": "b3035230-1f6e-452e-8243-ffb9a0a72630"
      },
      "outputs": [],
      "source": [
        "y=data['conversion']\n",
        "X=data.drop(columns=['conversion'])"
      ]
    },
    {
      "cell_type": "code",
      "execution_count": null,
      "id": "6c73243d-cee5-401f-b2ce-a05f5f791ede",
      "metadata": {
        "id": "6c73243d-cee5-401f-b2ce-a05f5f791ede"
      },
      "outputs": [],
      "source": [
        "ct1=make_column_transformer(\n",
        "    (OneHotEncoder(sparse=False),make_column_selector(dtype_include=object)),\n",
        "(StandardScaler(),make_column_selector(dtype_exclude=object)))\n"
      ]
    },
    {
      "cell_type": "code",
      "execution_count": null,
      "id": "e62a0d43-6328-4227-a4a6-bc68a216aa10",
      "metadata": {
        "id": "e62a0d43-6328-4227-a4a6-bc68a216aa10"
      },
      "outputs": [],
      "source": [
        "X=ct1.fit_transform(X)"
      ]
    },
    {
      "cell_type": "code",
      "execution_count": null,
      "id": "998e0960-0648-47d8-912e-265ddf93ad00",
      "metadata": {
        "id": "998e0960-0648-47d8-912e-265ddf93ad00"
      },
      "outputs": [],
      "source": [
        "X_train,X_test,y_train,y_test=train_test_split(X,y,test_size=0.2,shuffle=True)"
      ]
    },
    {
      "cell_type": "code",
      "execution_count": null,
      "id": "VmhluRfJuCap",
      "metadata": {
        "colab": {
          "base_uri": "https://localhost:8080/"
        },
        "id": "VmhluRfJuCap",
        "outputId": "29b381d4-60c2-4d24-d8a2-50a10eb552be"
      },
      "outputs": [
        {
          "name": "stdout",
          "output_type": "stream",
          "text": [
            "Looking in indexes: https://pypi.org/simple, https://us-python.pkg.dev/colab-wheels/public/simple/\n",
            "Collecting scikeras\n",
            "  Downloading scikeras-0.9.0-py3-none-any.whl (27 kB)\n",
            "Requirement already satisfied: packaging>=0.21 in /usr/local/lib/python3.7/dist-packages (from scikeras) (21.3)\n",
            "Requirement already satisfied: scikit-learn>=1.0.0 in /usr/local/lib/python3.7/dist-packages (from scikeras) (1.0.2)\n",
            "Requirement already satisfied: importlib-metadata>=3 in /usr/local/lib/python3.7/dist-packages (from scikeras) (4.13.0)\n",
            "Requirement already satisfied: typing-extensions>=3.6.4 in /usr/local/lib/python3.7/dist-packages (from importlib-metadata>=3->scikeras) (4.1.1)\n",
            "Requirement already satisfied: zipp>=0.5 in /usr/local/lib/python3.7/dist-packages (from importlib-metadata>=3->scikeras) (3.10.0)\n",
            "Requirement already satisfied: pyparsing!=3.0.5,>=2.0.2 in /usr/local/lib/python3.7/dist-packages (from packaging>=0.21->scikeras) (3.0.9)\n",
            "Requirement already satisfied: threadpoolctl>=2.0.0 in /usr/local/lib/python3.7/dist-packages (from scikit-learn>=1.0.0->scikeras) (3.1.0)\n",
            "Requirement already satisfied: scipy>=1.1.0 in /usr/local/lib/python3.7/dist-packages (from scikit-learn>=1.0.0->scikeras) (1.7.3)\n",
            "Requirement already satisfied: joblib>=0.11 in /usr/local/lib/python3.7/dist-packages (from scikit-learn>=1.0.0->scikeras) (1.2.0)\n",
            "Requirement already satisfied: numpy>=1.14.6 in /usr/local/lib/python3.7/dist-packages (from scikit-learn>=1.0.0->scikeras) (1.21.6)\n",
            "Installing collected packages: scikeras\n",
            "Successfully installed scikeras-0.9.0\n"
          ]
        }
      ],
      "source": [
        "!pip install scikeras"
      ]
    },
    {
      "cell_type": "code",
      "execution_count": null,
      "id": "dALoR08NuHCq",
      "metadata": {
        "id": "dALoR08NuHCq"
      },
      "outputs": [],
      "source": [
        "from scikeras.wrappers import KerasClassifier"
      ]
    },
    {
      "cell_type": "code",
      "execution_count": null,
      "id": "phzR4huEB-xo",
      "metadata": {
        "colab": {
          "base_uri": "https://localhost:8080/"
        },
        "id": "phzR4huEB-xo",
        "outputId": "05c3f21c-55d0-41e6-bd1d-238411ef8c35"
      },
      "outputs": [
        {
          "data": {
            "text/plain": [
              "241"
            ]
          },
          "execution_count": 157,
          "metadata": {},
          "output_type": "execute_result"
        }
      ],
      "source": [
        "X_train.shape[-1]"
      ]
    },
    {
      "cell_type": "code",
      "execution_count": null,
      "id": "CQmpleD-RMEd",
      "metadata": {
        "id": "CQmpleD-RMEd"
      },
      "outputs": [],
      "source": [
        "def create_model(neuron1,neuron2,neuron3):\n",
        "  model = tf.keras.models.Sequential()\n",
        "  model.add(tf.keras.layers.Dense(neuron1, input_shape=(241,), activation='relu'))\n",
        "  model.add(tf.keras.layers.Dense(neuron2, activation='relu'))\n",
        "  model.add(tf.keras.layers.Dense(neuron3, activation='relu'))\n",
        "  model.add(tf.keras.layers.Dense(1, activation='sigmoid'))\n",
        "  model.compile(loss='binary_crossentropy', optimizer='adam', metrics=['accuracy'])\n",
        "  return model"
      ]
    },
    {
      "cell_type": "code",
      "execution_count": null,
      "id": "_YmiagOlR-Zs",
      "metadata": {
        "id": "_YmiagOlR-Zs"
      },
      "outputs": [],
      "source": [
        "model_grid=KerasClassifier(model=create_model,epochs=50,batch_size=32)"
      ]
    },
    {
      "cell_type": "code",
      "execution_count": null,
      "id": "XQnyiHSzSorn",
      "metadata": {
        "id": "XQnyiHSzSorn"
      },
      "outputs": [],
      "source": [
        "neuron1=[10,30,40]\n",
        "neuron2=[10,20,30,]\n",
        "neuron3=[10,20]\n",
        "\n",
        "# learning_rate=[0.3,0.2,0.1,0.01,0.05,0.001,0.005]\n",
        "# momentum = [0.0, 0.2, 0.4, 0.6, 0.8, 0.9]\n",
        "# optimizer = ['RMSprop', 'Adagrad', 'Adadelta', 'Adam','Nadam']\n",
        "# lamd=[0.3,0.2,0.1,0.01,0.05,0.001,0.005]\n",
        "# param_grid = dict(model__neuron1=neuron1,model__neuron2=neuron2,model__neuron3=neuron3, model__lamd=lamd,\n",
        "#                   optimizer__learning_rate=learning_rate, optimizer=optimizer)\n",
        "\n",
        "param_grid = dict(model__neuron1=neuron1,model__neuron2=neuron2,model__neuron3=neuron3)\n",
        "                  # , model__lamd=lamd)"
      ]
    },
    {
      "cell_type": "code",
      "execution_count": null,
      "id": "ZYf1EJkeR2nK",
      "metadata": {
        "id": "ZYf1EJkeR2nK"
      },
      "outputs": [],
      "source": [
        "from scikeras.wrappers import KerasClassifier"
      ]
    },
    {
      "cell_type": "code",
      "execution_count": null,
      "id": "gp_yHi4-VwAY",
      "metadata": {
        "id": "gp_yHi4-VwAY"
      },
      "outputs": [],
      "source": [
        "grid=GridSearchCV(estimator=model_grid, param_grid=param_grid,n_jobs=-1,cv=3,scoring='precision')"
      ]
    },
    {
      "cell_type": "code",
      "execution_count": null,
      "id": "r2tH8HNIVwDN",
      "metadata": {
        "colab": {
          "base_uri": "https://localhost:8080/"
        },
        "id": "r2tH8HNIVwDN",
        "outputId": "b8371266-57ed-4aa9-8a92-dbcf1c5c3fe6"
      },
      "outputs": [
        {
          "name": "stderr",
          "output_type": "stream",
          "text": [
            "/usr/local/lib/python3.7/dist-packages/joblib/externals/loky/process_executor.py:703: UserWarning: A worker stopped while some jobs were given to the executor. This can be caused by a too short worker timeout or by a memory leak.\n",
            "  \"timeout or by a memory leak.\", UserWarning\n"
          ]
        },
        {
          "name": "stdout",
          "output_type": "stream",
          "text": [
            "Epoch 1/50\n",
            "904/904 [==============================] - 2s 2ms/step - loss: 0.1260 - accuracy: 0.9619\n",
            "Epoch 2/50\n",
            "904/904 [==============================] - 2s 2ms/step - loss: 0.0829 - accuracy: 0.9740\n",
            "Epoch 3/50\n",
            "904/904 [==============================] - 2s 2ms/step - loss: 0.0746 - accuracy: 0.9766\n",
            "Epoch 4/50\n",
            "904/904 [==============================] - 2s 2ms/step - loss: 0.0693 - accuracy: 0.9788\n",
            "Epoch 5/50\n",
            "904/904 [==============================] - 2s 2ms/step - loss: 0.0658 - accuracy: 0.9796\n",
            "Epoch 6/50\n",
            "904/904 [==============================] - 2s 2ms/step - loss: 0.0627 - accuracy: 0.9807\n",
            "Epoch 7/50\n",
            "904/904 [==============================] - 2s 2ms/step - loss: 0.0596 - accuracy: 0.9818\n",
            "Epoch 8/50\n",
            "904/904 [==============================] - 2s 2ms/step - loss: 0.0577 - accuracy: 0.9825\n",
            "Epoch 9/50\n",
            "904/904 [==============================] - 2s 2ms/step - loss: 0.0552 - accuracy: 0.9829\n",
            "Epoch 10/50\n",
            "904/904 [==============================] - 2s 2ms/step - loss: 0.0544 - accuracy: 0.9832\n",
            "Epoch 11/50\n",
            "904/904 [==============================] - 2s 2ms/step - loss: 0.0530 - accuracy: 0.9843\n",
            "Epoch 12/50\n",
            "904/904 [==============================] - 2s 2ms/step - loss: 0.0520 - accuracy: 0.9846\n",
            "Epoch 13/50\n",
            "904/904 [==============================] - 2s 2ms/step - loss: 0.0496 - accuracy: 0.9852\n",
            "Epoch 14/50\n",
            "904/904 [==============================] - 2s 2ms/step - loss: 0.0491 - accuracy: 0.9857\n",
            "Epoch 15/50\n",
            "904/904 [==============================] - 2s 2ms/step - loss: 0.0480 - accuracy: 0.9860\n",
            "Epoch 16/50\n",
            "904/904 [==============================] - 2s 2ms/step - loss: 0.0474 - accuracy: 0.9870\n",
            "Epoch 17/50\n",
            "904/904 [==============================] - 2s 2ms/step - loss: 0.0469 - accuracy: 0.9865\n",
            "Epoch 18/50\n",
            "904/904 [==============================] - 2s 2ms/step - loss: 0.0453 - accuracy: 0.9868\n",
            "Epoch 19/50\n",
            "904/904 [==============================] - 2s 2ms/step - loss: 0.0440 - accuracy: 0.9879\n",
            "Epoch 20/50\n",
            "904/904 [==============================] - 2s 2ms/step - loss: 0.0442 - accuracy: 0.9873\n",
            "Epoch 21/50\n",
            "904/904 [==============================] - 2s 2ms/step - loss: 0.0430 - accuracy: 0.9882\n",
            "Epoch 22/50\n",
            "904/904 [==============================] - 2s 2ms/step - loss: 0.0446 - accuracy: 0.9871\n",
            "Epoch 23/50\n",
            "904/904 [==============================] - 2s 2ms/step - loss: 0.0434 - accuracy: 0.9879\n",
            "Epoch 24/50\n",
            "904/904 [==============================] - 2s 2ms/step - loss: 0.0417 - accuracy: 0.9877\n",
            "Epoch 25/50\n",
            "904/904 [==============================] - 2s 2ms/step - loss: 0.0413 - accuracy: 0.9885\n",
            "Epoch 26/50\n",
            "904/904 [==============================] - 2s 2ms/step - loss: 0.0414 - accuracy: 0.9885\n",
            "Epoch 27/50\n",
            "904/904 [==============================] - 2s 2ms/step - loss: 0.0415 - accuracy: 0.9882\n",
            "Epoch 28/50\n",
            "904/904 [==============================] - 2s 2ms/step - loss: 0.0395 - accuracy: 0.9887\n",
            "Epoch 29/50\n",
            "904/904 [==============================] - 2s 2ms/step - loss: 0.0394 - accuracy: 0.9890\n",
            "Epoch 30/50\n",
            "904/904 [==============================] - 2s 2ms/step - loss: 0.0424 - accuracy: 0.9883\n",
            "Epoch 31/50\n",
            "904/904 [==============================] - 2s 2ms/step - loss: 0.0398 - accuracy: 0.9887\n",
            "Epoch 32/50\n",
            "904/904 [==============================] - 2s 2ms/step - loss: 0.0386 - accuracy: 0.9890\n",
            "Epoch 33/50\n",
            "904/904 [==============================] - 2s 2ms/step - loss: 0.0402 - accuracy: 0.9889\n",
            "Epoch 34/50\n",
            "904/904 [==============================] - 2s 2ms/step - loss: 0.0383 - accuracy: 0.9898\n",
            "Epoch 35/50\n",
            "904/904 [==============================] - 2s 2ms/step - loss: 0.0394 - accuracy: 0.9891\n",
            "Epoch 36/50\n",
            "904/904 [==============================] - 2s 2ms/step - loss: 0.0377 - accuracy: 0.9896\n",
            "Epoch 37/50\n",
            "904/904 [==============================] - 2s 2ms/step - loss: 0.0370 - accuracy: 0.9898\n",
            "Epoch 38/50\n",
            "904/904 [==============================] - 2s 2ms/step - loss: 0.0367 - accuracy: 0.9899\n",
            "Epoch 39/50\n",
            "904/904 [==============================] - 2s 2ms/step - loss: 0.0370 - accuracy: 0.9895\n",
            "Epoch 40/50\n",
            "904/904 [==============================] - 2s 2ms/step - loss: 0.0371 - accuracy: 0.9896\n",
            "Epoch 41/50\n",
            "904/904 [==============================] - 2s 2ms/step - loss: 0.0367 - accuracy: 0.9901\n",
            "Epoch 42/50\n",
            "904/904 [==============================] - 2s 2ms/step - loss: 0.0375 - accuracy: 0.9897\n",
            "Epoch 43/50\n",
            "904/904 [==============================] - 2s 2ms/step - loss: 0.0369 - accuracy: 0.9897\n",
            "Epoch 44/50\n",
            "904/904 [==============================] - 2s 2ms/step - loss: 0.0375 - accuracy: 0.9897\n",
            "Epoch 45/50\n",
            "904/904 [==============================] - 2s 2ms/step - loss: 0.0356 - accuracy: 0.9900\n",
            "Epoch 46/50\n",
            "904/904 [==============================] - 2s 2ms/step - loss: 0.0352 - accuracy: 0.9901\n",
            "Epoch 47/50\n",
            "904/904 [==============================] - 2s 2ms/step - loss: 0.0348 - accuracy: 0.9904\n",
            "Epoch 48/50\n",
            "904/904 [==============================] - 2s 2ms/step - loss: 0.0349 - accuracy: 0.9903\n",
            "Epoch 49/50\n",
            "904/904 [==============================] - 2s 2ms/step - loss: 0.0366 - accuracy: 0.9900\n",
            "Epoch 50/50\n",
            "904/904 [==============================] - 2s 2ms/step - loss: 0.0345 - accuracy: 0.9903\n"
          ]
        }
      ],
      "source": [
        "grid_results=grid.fit(X_train,y_train)\n",
        "                      # ,validation_data=(X_test,y_test),\n",
        "                      # callbacks=[early_stop],verbose=1)"
      ]
    },
    {
      "cell_type": "code",
      "execution_count": null,
      "id": "Vk1rc1lGcrfQ",
      "metadata": {
        "colab": {
          "base_uri": "https://localhost:8080/",
          "height": 1000
        },
        "id": "Vk1rc1lGcrfQ",
        "outputId": "68283a11-c32a-44fc-b1e1-5f124b7a3b51"
      },
      "outputs": [
        {
          "data": {
            "text/html": [
              "\n",
              "  <div id=\"df-09df36b5-28a8-4dfa-a9d2-42329f54ff0e\">\n",
              "    <div class=\"colab-df-container\">\n",
              "      <div>\n",
              "<style scoped>\n",
              "    .dataframe tbody tr th:only-of-type {\n",
              "        vertical-align: middle;\n",
              "    }\n",
              "\n",
              "    .dataframe tbody tr th {\n",
              "        vertical-align: top;\n",
              "    }\n",
              "\n",
              "    .dataframe thead th {\n",
              "        text-align: right;\n",
              "    }\n",
              "</style>\n",
              "<table border=\"1\" class=\"dataframe\">\n",
              "  <thead>\n",
              "    <tr style=\"text-align: right;\">\n",
              "      <th></th>\n",
              "      <th>mean_fit_time</th>\n",
              "      <th>std_fit_time</th>\n",
              "      <th>mean_score_time</th>\n",
              "      <th>std_score_time</th>\n",
              "      <th>param_model__neuron1</th>\n",
              "      <th>param_model__neuron2</th>\n",
              "      <th>param_model__neuron3</th>\n",
              "      <th>params</th>\n",
              "      <th>split0_test_score</th>\n",
              "      <th>split1_test_score</th>\n",
              "      <th>split2_test_score</th>\n",
              "      <th>mean_test_score</th>\n",
              "      <th>std_test_score</th>\n",
              "      <th>rank_test_score</th>\n",
              "    </tr>\n",
              "  </thead>\n",
              "  <tbody>\n",
              "    <tr>\n",
              "      <th>0</th>\n",
              "      <td>122.429649</td>\n",
              "      <td>29.001766</td>\n",
              "      <td>0.972288</td>\n",
              "      <td>0.341137</td>\n",
              "      <td>10</td>\n",
              "      <td>10</td>\n",
              "      <td>10</td>\n",
              "      <td>{'model__neuron1': 10, 'model__neuron2': 10, '...</td>\n",
              "      <td>0.975301</td>\n",
              "      <td>0.974575</td>\n",
              "      <td>0.977377</td>\n",
              "      <td>0.975751</td>\n",
              "      <td>0.001187</td>\n",
              "      <td>11</td>\n",
              "    </tr>\n",
              "    <tr>\n",
              "      <th>1</th>\n",
              "      <td>82.744449</td>\n",
              "      <td>0.185426</td>\n",
              "      <td>1.027040</td>\n",
              "      <td>0.416979</td>\n",
              "      <td>10</td>\n",
              "      <td>10</td>\n",
              "      <td>20</td>\n",
              "      <td>{'model__neuron1': 10, 'model__neuron2': 10, '...</td>\n",
              "      <td>0.975509</td>\n",
              "      <td>0.976027</td>\n",
              "      <td>0.977999</td>\n",
              "      <td>0.976512</td>\n",
              "      <td>0.001073</td>\n",
              "      <td>2</td>\n",
              "    </tr>\n",
              "    <tr>\n",
              "      <th>2</th>\n",
              "      <td>76.786206</td>\n",
              "      <td>5.780363</td>\n",
              "      <td>1.222218</td>\n",
              "      <td>0.270169</td>\n",
              "      <td>10</td>\n",
              "      <td>20</td>\n",
              "      <td>10</td>\n",
              "      <td>{'model__neuron1': 10, 'model__neuron2': 20, '...</td>\n",
              "      <td>0.975612</td>\n",
              "      <td>0.973848</td>\n",
              "      <td>0.977480</td>\n",
              "      <td>0.975647</td>\n",
              "      <td>0.001483</td>\n",
              "      <td>13</td>\n",
              "    </tr>\n",
              "    <tr>\n",
              "      <th>3</th>\n",
              "      <td>75.803257</td>\n",
              "      <td>5.654598</td>\n",
              "      <td>1.199817</td>\n",
              "      <td>0.290164</td>\n",
              "      <td>10</td>\n",
              "      <td>20</td>\n",
              "      <td>20</td>\n",
              "      <td>{'model__neuron1': 10, 'model__neuron2': 20, '...</td>\n",
              "      <td>0.974056</td>\n",
              "      <td>0.976339</td>\n",
              "      <td>0.977065</td>\n",
              "      <td>0.975820</td>\n",
              "      <td>0.001282</td>\n",
              "      <td>9</td>\n",
              "    </tr>\n",
              "    <tr>\n",
              "      <th>4</th>\n",
              "      <td>103.116301</td>\n",
              "      <td>28.151839</td>\n",
              "      <td>0.676200</td>\n",
              "      <td>0.139198</td>\n",
              "      <td>10</td>\n",
              "      <td>30</td>\n",
              "      <td>10</td>\n",
              "      <td>{'model__neuron1': 10, 'model__neuron2': 30, '...</td>\n",
              "      <td>0.976339</td>\n",
              "      <td>0.974056</td>\n",
              "      <td>0.977688</td>\n",
              "      <td>0.976027</td>\n",
              "      <td>0.001499</td>\n",
              "      <td>7</td>\n",
              "    </tr>\n",
              "    <tr>\n",
              "      <th>5</th>\n",
              "      <td>102.853053</td>\n",
              "      <td>28.412576</td>\n",
              "      <td>0.982967</td>\n",
              "      <td>0.317790</td>\n",
              "      <td>10</td>\n",
              "      <td>30</td>\n",
              "      <td>20</td>\n",
              "      <td>{'model__neuron1': 10, 'model__neuron2': 30, '...</td>\n",
              "      <td>0.976443</td>\n",
              "      <td>0.975093</td>\n",
              "      <td>0.975612</td>\n",
              "      <td>0.975716</td>\n",
              "      <td>0.000556</td>\n",
              "      <td>12</td>\n",
              "    </tr>\n",
              "    <tr>\n",
              "      <th>6</th>\n",
              "      <td>92.476822</td>\n",
              "      <td>37.889367</td>\n",
              "      <td>0.627369</td>\n",
              "      <td>0.120544</td>\n",
              "      <td>30</td>\n",
              "      <td>10</td>\n",
              "      <td>10</td>\n",
              "      <td>{'model__neuron1': 30, 'model__neuron2': 10, '...</td>\n",
              "      <td>0.976235</td>\n",
              "      <td>0.975716</td>\n",
              "      <td>0.977273</td>\n",
              "      <td>0.976408</td>\n",
              "      <td>0.000647</td>\n",
              "      <td>3</td>\n",
              "    </tr>\n",
              "    <tr>\n",
              "      <th>7</th>\n",
              "      <td>100.754773</td>\n",
              "      <td>29.820171</td>\n",
              "      <td>0.997051</td>\n",
              "      <td>0.291657</td>\n",
              "      <td>30</td>\n",
              "      <td>10</td>\n",
              "      <td>20</td>\n",
              "      <td>{'model__neuron1': 30, 'model__neuron2': 10, '...</td>\n",
              "      <td>0.974575</td>\n",
              "      <td>0.975716</td>\n",
              "      <td>0.978311</td>\n",
              "      <td>0.976200</td>\n",
              "      <td>0.001563</td>\n",
              "      <td>6</td>\n",
              "    </tr>\n",
              "    <tr>\n",
              "      <th>8</th>\n",
              "      <td>70.315531</td>\n",
              "      <td>14.725329</td>\n",
              "      <td>0.560405</td>\n",
              "      <td>0.132644</td>\n",
              "      <td>30</td>\n",
              "      <td>20</td>\n",
              "      <td>10</td>\n",
              "      <td>{'model__neuron1': 30, 'model__neuron2': 20, '...</td>\n",
              "      <td>0.975820</td>\n",
              "      <td>0.972084</td>\n",
              "      <td>0.975924</td>\n",
              "      <td>0.974609</td>\n",
              "      <td>0.001786</td>\n",
              "      <td>18</td>\n",
              "    </tr>\n",
              "    <tr>\n",
              "      <th>9</th>\n",
              "      <td>102.867966</td>\n",
              "      <td>28.322742</td>\n",
              "      <td>1.207745</td>\n",
              "      <td>0.291649</td>\n",
              "      <td>30</td>\n",
              "      <td>20</td>\n",
              "      <td>20</td>\n",
              "      <td>{'model__neuron1': 30, 'model__neuron2': 20, '...</td>\n",
              "      <td>0.976754</td>\n",
              "      <td>0.974159</td>\n",
              "      <td>0.978933</td>\n",
              "      <td>0.976615</td>\n",
              "      <td>0.001951</td>\n",
              "      <td>1</td>\n",
              "    </tr>\n",
              "    <tr>\n",
              "      <th>10</th>\n",
              "      <td>73.175357</td>\n",
              "      <td>13.507115</td>\n",
              "      <td>0.657677</td>\n",
              "      <td>0.150241</td>\n",
              "      <td>30</td>\n",
              "      <td>30</td>\n",
              "      <td>10</td>\n",
              "      <td>{'model__neuron1': 30, 'model__neuron2': 30, '...</td>\n",
              "      <td>0.977480</td>\n",
              "      <td>0.972810</td>\n",
              "      <td>0.977480</td>\n",
              "      <td>0.975924</td>\n",
              "      <td>0.002201</td>\n",
              "      <td>8</td>\n",
              "    </tr>\n",
              "    <tr>\n",
              "      <th>11</th>\n",
              "      <td>95.330169</td>\n",
              "      <td>35.072285</td>\n",
              "      <td>1.197235</td>\n",
              "      <td>0.349972</td>\n",
              "      <td>30</td>\n",
              "      <td>30</td>\n",
              "      <td>20</td>\n",
              "      <td>{'model__neuron1': 30, 'model__neuron2': 30, '...</td>\n",
              "      <td>0.976235</td>\n",
              "      <td>0.974159</td>\n",
              "      <td>0.976961</td>\n",
              "      <td>0.975785</td>\n",
              "      <td>0.001187</td>\n",
              "      <td>10</td>\n",
              "    </tr>\n",
              "    <tr>\n",
              "      <th>12</th>\n",
              "      <td>77.535780</td>\n",
              "      <td>5.764741</td>\n",
              "      <td>1.193096</td>\n",
              "      <td>0.304838</td>\n",
              "      <td>40</td>\n",
              "      <td>10</td>\n",
              "      <td>10</td>\n",
              "      <td>{'model__neuron1': 40, 'model__neuron2': 10, '...</td>\n",
              "      <td>0.975197</td>\n",
              "      <td>0.975093</td>\n",
              "      <td>0.978933</td>\n",
              "      <td>0.976408</td>\n",
              "      <td>0.001786</td>\n",
              "      <td>3</td>\n",
              "    </tr>\n",
              "    <tr>\n",
              "      <th>13</th>\n",
              "      <td>78.059877</td>\n",
              "      <td>6.782944</td>\n",
              "      <td>0.748586</td>\n",
              "      <td>0.007634</td>\n",
              "      <td>40</td>\n",
              "      <td>10</td>\n",
              "      <td>20</td>\n",
              "      <td>{'model__neuron1': 40, 'model__neuron2': 10, '...</td>\n",
              "      <td>0.974056</td>\n",
              "      <td>0.975820</td>\n",
              "      <td>0.976546</td>\n",
              "      <td>0.975474</td>\n",
              "      <td>0.001046</td>\n",
              "      <td>15</td>\n",
              "    </tr>\n",
              "    <tr>\n",
              "      <th>14</th>\n",
              "      <td>82.330373</td>\n",
              "      <td>0.968417</td>\n",
              "      <td>1.669811</td>\n",
              "      <td>0.871295</td>\n",
              "      <td>40</td>\n",
              "      <td>20</td>\n",
              "      <td>10</td>\n",
              "      <td>{'model__neuron1': 40, 'model__neuron2': 20, '...</td>\n",
              "      <td>0.975197</td>\n",
              "      <td>0.974575</td>\n",
              "      <td>0.976650</td>\n",
              "      <td>0.975474</td>\n",
              "      <td>0.000870</td>\n",
              "      <td>15</td>\n",
              "    </tr>\n",
              "    <tr>\n",
              "      <th>15</th>\n",
              "      <td>80.050980</td>\n",
              "      <td>2.128062</td>\n",
              "      <td>0.923240</td>\n",
              "      <td>0.343963</td>\n",
              "      <td>40</td>\n",
              "      <td>20</td>\n",
              "      <td>20</td>\n",
              "      <td>{'model__neuron1': 40, 'model__neuron2': 20, '...</td>\n",
              "      <td>0.977273</td>\n",
              "      <td>0.975612</td>\n",
              "      <td>0.976235</td>\n",
              "      <td>0.976373</td>\n",
              "      <td>0.000685</td>\n",
              "      <td>5</td>\n",
              "    </tr>\n",
              "    <tr>\n",
              "      <th>16</th>\n",
              "      <td>102.945006</td>\n",
              "      <td>28.344595</td>\n",
              "      <td>0.979318</td>\n",
              "      <td>0.297581</td>\n",
              "      <td>40</td>\n",
              "      <td>30</td>\n",
              "      <td>10</td>\n",
              "      <td>{'model__neuron1': 40, 'model__neuron2': 30, '...</td>\n",
              "      <td>0.975405</td>\n",
              "      <td>0.973329</td>\n",
              "      <td>0.977792</td>\n",
              "      <td>0.975509</td>\n",
              "      <td>0.001823</td>\n",
              "      <td>14</td>\n",
              "    </tr>\n",
              "    <tr>\n",
              "      <th>17</th>\n",
              "      <td>74.567593</td>\n",
              "      <td>11.564169</td>\n",
              "      <td>0.769213</td>\n",
              "      <td>0.049251</td>\n",
              "      <td>40</td>\n",
              "      <td>30</td>\n",
              "      <td>20</td>\n",
              "      <td>{'model__neuron1': 40, 'model__neuron2': 30, '...</td>\n",
              "      <td>0.973122</td>\n",
              "      <td>0.974678</td>\n",
              "      <td>0.977480</td>\n",
              "      <td>0.975093</td>\n",
              "      <td>0.001803</td>\n",
              "      <td>17</td>\n",
              "    </tr>\n",
              "  </tbody>\n",
              "</table>\n",
              "</div>\n",
              "      <button class=\"colab-df-convert\" onclick=\"convertToInteractive('df-09df36b5-28a8-4dfa-a9d2-42329f54ff0e')\"\n",
              "              title=\"Convert this dataframe to an interactive table.\"\n",
              "              style=\"display:none;\">\n",
              "        \n",
              "  <svg xmlns=\"http://www.w3.org/2000/svg\" height=\"24px\"viewBox=\"0 0 24 24\"\n",
              "       width=\"24px\">\n",
              "    <path d=\"M0 0h24v24H0V0z\" fill=\"none\"/>\n",
              "    <path d=\"M18.56 5.44l.94 2.06.94-2.06 2.06-.94-2.06-.94-.94-2.06-.94 2.06-2.06.94zm-11 1L8.5 8.5l.94-2.06 2.06-.94-2.06-.94L8.5 2.5l-.94 2.06-2.06.94zm10 10l.94 2.06.94-2.06 2.06-.94-2.06-.94-.94-2.06-.94 2.06-2.06.94z\"/><path d=\"M17.41 7.96l-1.37-1.37c-.4-.4-.92-.59-1.43-.59-.52 0-1.04.2-1.43.59L10.3 9.45l-7.72 7.72c-.78.78-.78 2.05 0 2.83L4 21.41c.39.39.9.59 1.41.59.51 0 1.02-.2 1.41-.59l7.78-7.78 2.81-2.81c.8-.78.8-2.07 0-2.86zM5.41 20L4 18.59l7.72-7.72 1.47 1.35L5.41 20z\"/>\n",
              "  </svg>\n",
              "      </button>\n",
              "      \n",
              "  <style>\n",
              "    .colab-df-container {\n",
              "      display:flex;\n",
              "      flex-wrap:wrap;\n",
              "      gap: 12px;\n",
              "    }\n",
              "\n",
              "    .colab-df-convert {\n",
              "      background-color: #E8F0FE;\n",
              "      border: none;\n",
              "      border-radius: 50%;\n",
              "      cursor: pointer;\n",
              "      display: none;\n",
              "      fill: #1967D2;\n",
              "      height: 32px;\n",
              "      padding: 0 0 0 0;\n",
              "      width: 32px;\n",
              "    }\n",
              "\n",
              "    .colab-df-convert:hover {\n",
              "      background-color: #E2EBFA;\n",
              "      box-shadow: 0px 1px 2px rgba(60, 64, 67, 0.3), 0px 1px 3px 1px rgba(60, 64, 67, 0.15);\n",
              "      fill: #174EA6;\n",
              "    }\n",
              "\n",
              "    [theme=dark] .colab-df-convert {\n",
              "      background-color: #3B4455;\n",
              "      fill: #D2E3FC;\n",
              "    }\n",
              "\n",
              "    [theme=dark] .colab-df-convert:hover {\n",
              "      background-color: #434B5C;\n",
              "      box-shadow: 0px 1px 3px 1px rgba(0, 0, 0, 0.15);\n",
              "      filter: drop-shadow(0px 1px 2px rgba(0, 0, 0, 0.3));\n",
              "      fill: #FFFFFF;\n",
              "    }\n",
              "  </style>\n",
              "\n",
              "      <script>\n",
              "        const buttonEl =\n",
              "          document.querySelector('#df-09df36b5-28a8-4dfa-a9d2-42329f54ff0e button.colab-df-convert');\n",
              "        buttonEl.style.display =\n",
              "          google.colab.kernel.accessAllowed ? 'block' : 'none';\n",
              "\n",
              "        async function convertToInteractive(key) {\n",
              "          const element = document.querySelector('#df-09df36b5-28a8-4dfa-a9d2-42329f54ff0e');\n",
              "          const dataTable =\n",
              "            await google.colab.kernel.invokeFunction('convertToInteractive',\n",
              "                                                     [key], {});\n",
              "          if (!dataTable) return;\n",
              "\n",
              "          const docLinkHtml = 'Like what you see? Visit the ' +\n",
              "            '<a target=\"_blank\" href=https://colab.research.google.com/notebooks/data_table.ipynb>data table notebook</a>'\n",
              "            + ' to learn more about interactive tables.';\n",
              "          element.innerHTML = '';\n",
              "          dataTable['output_type'] = 'display_data';\n",
              "          await google.colab.output.renderOutput(dataTable, element);\n",
              "          const docLink = document.createElement('div');\n",
              "          docLink.innerHTML = docLinkHtml;\n",
              "          element.appendChild(docLink);\n",
              "        }\n",
              "      </script>\n",
              "    </div>\n",
              "  </div>\n",
              "  "
            ],
            "text/plain": [
              "    mean_fit_time  std_fit_time  mean_score_time  std_score_time  \\\n",
              "0      122.429649     29.001766         0.972288        0.341137   \n",
              "1       82.744449      0.185426         1.027040        0.416979   \n",
              "2       76.786206      5.780363         1.222218        0.270169   \n",
              "3       75.803257      5.654598         1.199817        0.290164   \n",
              "4      103.116301     28.151839         0.676200        0.139198   \n",
              "5      102.853053     28.412576         0.982967        0.317790   \n",
              "6       92.476822     37.889367         0.627369        0.120544   \n",
              "7      100.754773     29.820171         0.997051        0.291657   \n",
              "8       70.315531     14.725329         0.560405        0.132644   \n",
              "9      102.867966     28.322742         1.207745        0.291649   \n",
              "10      73.175357     13.507115         0.657677        0.150241   \n",
              "11      95.330169     35.072285         1.197235        0.349972   \n",
              "12      77.535780      5.764741         1.193096        0.304838   \n",
              "13      78.059877      6.782944         0.748586        0.007634   \n",
              "14      82.330373      0.968417         1.669811        0.871295   \n",
              "15      80.050980      2.128062         0.923240        0.343963   \n",
              "16     102.945006     28.344595         0.979318        0.297581   \n",
              "17      74.567593     11.564169         0.769213        0.049251   \n",
              "\n",
              "   param_model__neuron1 param_model__neuron2 param_model__neuron3  \\\n",
              "0                    10                   10                   10   \n",
              "1                    10                   10                   20   \n",
              "2                    10                   20                   10   \n",
              "3                    10                   20                   20   \n",
              "4                    10                   30                   10   \n",
              "5                    10                   30                   20   \n",
              "6                    30                   10                   10   \n",
              "7                    30                   10                   20   \n",
              "8                    30                   20                   10   \n",
              "9                    30                   20                   20   \n",
              "10                   30                   30                   10   \n",
              "11                   30                   30                   20   \n",
              "12                   40                   10                   10   \n",
              "13                   40                   10                   20   \n",
              "14                   40                   20                   10   \n",
              "15                   40                   20                   20   \n",
              "16                   40                   30                   10   \n",
              "17                   40                   30                   20   \n",
              "\n",
              "                                               params  split0_test_score  \\\n",
              "0   {'model__neuron1': 10, 'model__neuron2': 10, '...           0.975301   \n",
              "1   {'model__neuron1': 10, 'model__neuron2': 10, '...           0.975509   \n",
              "2   {'model__neuron1': 10, 'model__neuron2': 20, '...           0.975612   \n",
              "3   {'model__neuron1': 10, 'model__neuron2': 20, '...           0.974056   \n",
              "4   {'model__neuron1': 10, 'model__neuron2': 30, '...           0.976339   \n",
              "5   {'model__neuron1': 10, 'model__neuron2': 30, '...           0.976443   \n",
              "6   {'model__neuron1': 30, 'model__neuron2': 10, '...           0.976235   \n",
              "7   {'model__neuron1': 30, 'model__neuron2': 10, '...           0.974575   \n",
              "8   {'model__neuron1': 30, 'model__neuron2': 20, '...           0.975820   \n",
              "9   {'model__neuron1': 30, 'model__neuron2': 20, '...           0.976754   \n",
              "10  {'model__neuron1': 30, 'model__neuron2': 30, '...           0.977480   \n",
              "11  {'model__neuron1': 30, 'model__neuron2': 30, '...           0.976235   \n",
              "12  {'model__neuron1': 40, 'model__neuron2': 10, '...           0.975197   \n",
              "13  {'model__neuron1': 40, 'model__neuron2': 10, '...           0.974056   \n",
              "14  {'model__neuron1': 40, 'model__neuron2': 20, '...           0.975197   \n",
              "15  {'model__neuron1': 40, 'model__neuron2': 20, '...           0.977273   \n",
              "16  {'model__neuron1': 40, 'model__neuron2': 30, '...           0.975405   \n",
              "17  {'model__neuron1': 40, 'model__neuron2': 30, '...           0.973122   \n",
              "\n",
              "    split1_test_score  split2_test_score  mean_test_score  std_test_score  \\\n",
              "0            0.974575           0.977377         0.975751        0.001187   \n",
              "1            0.976027           0.977999         0.976512        0.001073   \n",
              "2            0.973848           0.977480         0.975647        0.001483   \n",
              "3            0.976339           0.977065         0.975820        0.001282   \n",
              "4            0.974056           0.977688         0.976027        0.001499   \n",
              "5            0.975093           0.975612         0.975716        0.000556   \n",
              "6            0.975716           0.977273         0.976408        0.000647   \n",
              "7            0.975716           0.978311         0.976200        0.001563   \n",
              "8            0.972084           0.975924         0.974609        0.001786   \n",
              "9            0.974159           0.978933         0.976615        0.001951   \n",
              "10           0.972810           0.977480         0.975924        0.002201   \n",
              "11           0.974159           0.976961         0.975785        0.001187   \n",
              "12           0.975093           0.978933         0.976408        0.001786   \n",
              "13           0.975820           0.976546         0.975474        0.001046   \n",
              "14           0.974575           0.976650         0.975474        0.000870   \n",
              "15           0.975612           0.976235         0.976373        0.000685   \n",
              "16           0.973329           0.977792         0.975509        0.001823   \n",
              "17           0.974678           0.977480         0.975093        0.001803   \n",
              "\n",
              "    rank_test_score  \n",
              "0                11  \n",
              "1                 2  \n",
              "2                13  \n",
              "3                 9  \n",
              "4                 7  \n",
              "5                12  \n",
              "6                 3  \n",
              "7                 6  \n",
              "8                18  \n",
              "9                 1  \n",
              "10                8  \n",
              "11               10  \n",
              "12                3  \n",
              "13               15  \n",
              "14               15  \n",
              "15                5  \n",
              "16               14  \n",
              "17               17  "
            ]
          },
          "execution_count": 182,
          "metadata": {},
          "output_type": "execute_result"
        }
      ],
      "source": [
        "results=pd.DataFrame(grid_results.cv_results_)\n",
        "results"
      ]
    },
    {
      "cell_type": "code",
      "execution_count": null,
      "id": "rDc0OZXgeaNT",
      "metadata": {
        "colab": {
          "base_uri": "https://localhost:8080/"
        },
        "id": "rDc0OZXgeaNT",
        "outputId": "6b7445e5-e4fd-427f-cb1a-887540a77904"
      },
      "outputs": [
        {
          "name": "stdout",
          "output_type": "stream",
          "text": [
            "<class 'pandas.core.frame.DataFrame'>\n",
            "RangeIndex: 18 entries, 0 to 17\n",
            "Data columns (total 14 columns):\n",
            " #   Column                Non-Null Count  Dtype  \n",
            "---  ------                --------------  -----  \n",
            " 0   mean_fit_time         18 non-null     float64\n",
            " 1   std_fit_time          18 non-null     float64\n",
            " 2   mean_score_time       18 non-null     float64\n",
            " 3   std_score_time        18 non-null     float64\n",
            " 4   param_model__neuron1  18 non-null     object \n",
            " 5   param_model__neuron2  18 non-null     object \n",
            " 6   param_model__neuron3  18 non-null     object \n",
            " 7   params                18 non-null     object \n",
            " 8   split0_test_score     18 non-null     float64\n",
            " 9   split1_test_score     18 non-null     float64\n",
            " 10  split2_test_score     18 non-null     float64\n",
            " 11  mean_test_score       18 non-null     float64\n",
            " 12  std_test_score        18 non-null     float64\n",
            " 13  rank_test_score       18 non-null     int32  \n",
            "dtypes: float64(9), int32(1), object(4)\n",
            "memory usage: 2.0+ KB\n"
          ]
        }
      ],
      "source": [
        "results.info()"
      ]
    },
    {
      "cell_type": "code",
      "execution_count": null,
      "id": "ceZ_PEYuVwGC",
      "metadata": {
        "id": "ceZ_PEYuVwGC"
      },
      "outputs": [],
      "source": [
        "results.to_csv('grid-deeplearning-results.csv')"
      ]
    },
    {
      "cell_type": "code",
      "execution_count": null,
      "id": "Uv1P3gt4VwIX",
      "metadata": {
        "colab": {
          "base_uri": "https://localhost:8080/"
        },
        "id": "Uv1P3gt4VwIX",
        "outputId": "2a602e08-1285-48e7-e72f-eef19fea66b7"
      },
      "outputs": [
        {
          "name": "stdout",
          "output_type": "stream",
          "text": [
            "226/226 [==============================] - 0s 1ms/step\n"
          ]
        }
      ],
      "source": [
        "y_pred=grid_results.best_estimator_.predict(X_test)"
      ]
    },
    {
      "cell_type": "code",
      "execution_count": null,
      "id": "aD1J1leTdveS",
      "metadata": {
        "colab": {
          "base_uri": "https://localhost:8080/"
        },
        "id": "aD1J1leTdveS",
        "outputId": "64d69458-2c08-45cd-d5ad-35e8e276e0bb"
      },
      "outputs": [
        {
          "name": "stdout",
          "output_type": "stream",
          "text": [
            "226/226 [==============================] - 0s 2ms/step\n"
          ]
        }
      ],
      "source": [
        "y_pred=tf.round(grid_results.best_estimator_.predict(X_test))"
      ]
    },
    {
      "cell_type": "code",
      "execution_count": null,
      "id": "d_9MryjZc7LW",
      "metadata": {
        "colab": {
          "base_uri": "https://localhost:8080/"
        },
        "id": "d_9MryjZc7LW",
        "outputId": "f42e3dca-86b3-4952-df24-46cba55eab39"
      },
      "outputs": [
        {
          "name": "stdout",
          "output_type": "stream",
          "text": [
            "226/226 [==============================] - 0s 1ms/step\n"
          ]
        }
      ],
      "source": [
        "y_prob=grid_results.best_estimator_.predict_proba(X_test)"
      ]
    },
    {
      "cell_type": "code",
      "execution_count": null,
      "id": "i9aH-ep5dCit",
      "metadata": {
        "colab": {
          "base_uri": "https://localhost:8080/"
        },
        "id": "i9aH-ep5dCit",
        "outputId": "2dc1e757-3ad5-4bdb-a616-82a72fc42844"
      },
      "outputs": [
        {
          "data": {
            "text/plain": [
              "KerasClassifier(\n",
              "\tmodel=<function create_model at 0x7f5a31317dd0>\n",
              "\tbuild_fn=None\n",
              "\twarm_start=False\n",
              "\trandom_state=None\n",
              "\toptimizer=rmsprop\n",
              "\tloss=None\n",
              "\tmetrics=None\n",
              "\tbatch_size=32\n",
              "\tvalidation_batch_size=None\n",
              "\tverbose=1\n",
              "\tcallbacks=None\n",
              "\tvalidation_split=0.0\n",
              "\tshuffle=True\n",
              "\trun_eagerly=False\n",
              "\tepochs=50\n",
              "\tmodel__neuron1=30\n",
              "\tmodel__neuron2=20\n",
              "\tmodel__neuron3=20\n",
              "\tclass_weight=None\n",
              ")"
            ]
          },
          "execution_count": 188,
          "metadata": {},
          "output_type": "execute_result"
        }
      ],
      "source": [
        "grid_results.best_estimator_"
      ]
    },
    {
      "cell_type": "code",
      "execution_count": null,
      "id": "amIRx67fdHHQ",
      "metadata": {
        "colab": {
          "base_uri": "https://localhost:8080/"
        },
        "id": "amIRx67fdHHQ",
        "outputId": "4b7150b2-bb3b-45dd-d698-dcf4bd6f66b3"
      },
      "outputs": [
        {
          "data": {
            "text/plain": [
              "{'model__neuron1': 30, 'model__neuron2': 20, 'model__neuron3': 20}"
            ]
          },
          "execution_count": 190,
          "metadata": {},
          "output_type": "execute_result"
        }
      ],
      "source": [
        "grid_results.best_params_"
      ]
    },
    {
      "cell_type": "code",
      "execution_count": null,
      "id": "pTKJiHQJdRY-",
      "metadata": {
        "colab": {
          "base_uri": "https://localhost:8080/"
        },
        "id": "pTKJiHQJdRY-",
        "outputId": "b4179923-41fa-46d7-8d4e-9f45a3e07fd4"
      },
      "outputs": [
        {
          "data": {
            "text/plain": [
              "array([[6571,  129],\n",
              "       [  42,  486]])"
            ]
          },
          "execution_count": 192,
          "metadata": {},
          "output_type": "execute_result"
        }
      ],
      "source": [
        "confusion_matrix(tf.round(y_pred),y_test)"
      ]
    },
    {
      "cell_type": "code",
      "execution_count": null,
      "id": "ejx451RgddNY",
      "metadata": {
        "colab": {
          "base_uri": "https://localhost:8080/"
        },
        "id": "ejx451RgddNY",
        "outputId": "a9e6e298-9657-400a-e8bf-672ddb76de19"
      },
      "outputs": [
        {
          "data": {
            "text/plain": [
              "(array([0.99364887, 0.7902439 ]),\n",
              " array([0.98074627, 0.92045455]),\n",
              " array([0.98715541, 0.8503937 ]),\n",
              " array([6700,  528]))"
            ]
          },
          "execution_count": 194,
          "metadata": {},
          "output_type": "execute_result"
        }
      ],
      "source": [
        "precision_recall_fscore_support(tf.round(y_pred),y_test)"
      ]
    },
    {
      "cell_type": "code",
      "execution_count": null,
      "id": "QvRtz_oAd3Ao",
      "metadata": {
        "id": "QvRtz_oAd3Ao"
      },
      "outputs": [],
      "source": []
    }
  ],
  "metadata": {
    "accelerator": "GPU",
    "colab": {
      "collapsed_sections": [
        "AXuf6C4l_ZlJ"
      ],
      "provenance": []
    },
    "gpuClass": "standard",
    "kernelspec": {
      "display_name": "Python 3 (ipykernel)",
      "language": "python",
      "name": "python3"
    },
    "language_info": {
      "codemirror_mode": {
        "name": "ipython",
        "version": 3
      },
      "file_extension": ".py",
      "mimetype": "text/x-python",
      "name": "python",
      "nbconvert_exporter": "python",
      "pygments_lexer": "ipython3",
      "version": "3.9.13"
    }
  },
  "nbformat": 4,
  "nbformat_minor": 5
}