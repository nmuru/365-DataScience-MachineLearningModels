{
 "cells": [
  {
   "cell_type": "code",
   "execution_count": 1,
   "id": "7905661d",
   "metadata": {},
   "outputs": [],
   "source": [
    "import tensorflow as tf"
   ]
  },
  {
   "cell_type": "code",
   "execution_count": 3,
   "id": "b45091e2",
   "metadata": {},
   "outputs": [],
   "source": [
    "import pandas as pd\n",
    "import numpy as np\n",
    "from sklearn.compose import ColumnTransformer\n",
    "\n",
    "from sklearn.preprocessing import OneHotEncoder\n",
    "from sklearn.model_selection import train_test_split\n",
    "from sklearn.metrics import balanced_accuracy_score, precision_recall_fscore_support\n",
    "from sklearn.tree import DecisionTreeClassifier\n",
    "from sklearn.metrics import confusion_matrix\n",
    "from sklearn.metrics import accuracy_score\n",
    "\n",
    "from sklearn.metrics import precision_score, recall_score, f1_score\n"
   ]
  },
  {
   "cell_type": "code",
   "execution_count": 40,
   "id": "15b6c5cf",
   "metadata": {},
   "outputs": [],
   "source": [
    "from sklearn.preprocessing import StandardScaler\n",
    "from sklearn.compose import make_column_transformer, make_column_selector\n",
    "from sklearn.compose import make_column_transformer, make_column_selector"
   ]
  },
  {
   "cell_type": "markdown",
   "id": "747d58c7",
   "metadata": {},
   "source": [
    "## XGBoost All Features"
   ]
  },
  {
   "cell_type": "code",
   "execution_count": 4,
   "id": "9dd4dfd8",
   "metadata": {},
   "outputs": [
    {
     "name": "stdout",
     "output_type": "stream",
     "text": [
      "<class 'pandas.core.frame.DataFrame'>\n",
      "RangeIndex: 36136 entries, 0 to 36135\n",
      "Data columns (total 61 columns):\n",
      " #   Column             Non-Null Count  Dtype  \n",
      "---  ------             --------------  -----  \n",
      " 0   student_country    36136 non-null  object \n",
      " 1   totaldays_engaged  36136 non-null  int64  \n",
      " 2   courseswatched     36136 non-null  int64  \n",
      " 3   questionsasked     36136 non-null  int64  \n",
      " 4   totalminwatched    36136 non-null  float64\n",
      " 5   tendaysafter       36136 non-null  float64\n",
      " 6   fifteendaysafter   36136 non-null  float64\n",
      " 7   thirtydaysafter    36136 non-null  float64\n",
      " 8   sixtydaysafter     36136 non-null  float64\n",
      " 9   conversion         36136 non-null  int64  \n",
      " 10  2                  36136 non-null  float64\n",
      " 11  3                  36136 non-null  float64\n",
      " 12  4                  36136 non-null  float64\n",
      " 13  5                  36136 non-null  float64\n",
      " 14  7                  36136 non-null  float64\n",
      " 15  11                 36136 non-null  float64\n",
      " 16  12                 36136 non-null  float64\n",
      " 17  13                 36136 non-null  float64\n",
      " 18  14                 36136 non-null  float64\n",
      " 19  15                 36136 non-null  float64\n",
      " 20  16                 36136 non-null  float64\n",
      " 21  19                 36136 non-null  float64\n",
      " 22  20                 36136 non-null  float64\n",
      " 23  21                 36136 non-null  float64\n",
      " 24  22                 36136 non-null  float64\n",
      " 25  23                 36136 non-null  float64\n",
      " 26  24                 36136 non-null  float64\n",
      " 27  25                 36136 non-null  float64\n",
      " 28  26                 36136 non-null  float64\n",
      " 29  27                 36136 non-null  float64\n",
      " 30  28                 36136 non-null  float64\n",
      " 31  29                 36136 non-null  float64\n",
      " 32  30                 36136 non-null  float64\n",
      " 33  32                 36136 non-null  float64\n",
      " 34  33                 36136 non-null  float64\n",
      " 35  34                 36136 non-null  float64\n",
      " 36  35                 36136 non-null  float64\n",
      " 37  36                 36136 non-null  float64\n",
      " 38  37                 36136 non-null  float64\n",
      " 39  39                 36136 non-null  float64\n",
      " 40  41                 36136 non-null  float64\n",
      " 41  42                 36136 non-null  float64\n",
      " 42  43                 36136 non-null  float64\n",
      " 43  44                 36136 non-null  float64\n",
      " 44  45                 36136 non-null  float64\n",
      " 45  46                 36136 non-null  float64\n",
      " 46  48                 36136 non-null  float64\n",
      " 47  49                 36136 non-null  float64\n",
      " 48  50                 36136 non-null  float64\n",
      " 49  51                 36136 non-null  float64\n",
      " 50  52                 36136 non-null  float64\n",
      " 51  53                 36136 non-null  float64\n",
      " 52  54                 36136 non-null  float64\n",
      " 53  55                 36136 non-null  float64\n",
      " 54  56                 36136 non-null  float64\n",
      " 55  57                 36136 non-null  float64\n",
      " 56  59                 36136 non-null  float64\n",
      " 57  65                 36136 non-null  float64\n",
      " 58  66                 36136 non-null  float64\n",
      " 59  67                 36136 non-null  float64\n",
      " 60  daysafteronb       36136 non-null  float64\n",
      "dtypes: float64(56), int64(4), object(1)\n",
      "memory usage: 16.8+ MB\n"
     ]
    }
   ],
   "source": [
    "data=pd.read_csv('df_student_features_entiredata.csv')\n",
    "data.drop(columns=['Unnamed: 0','subscriptiontype','onboard_flag','daysafterpur'],inplace=True)\n",
    "data.info()"
   ]
  },
  {
   "cell_type": "code",
   "execution_count": 5,
   "id": "b45f7d3c",
   "metadata": {},
   "outputs": [],
   "source": [
    "data.to_csv('365_Final_Features_deployed.csv')"
   ]
  },
  {
   "cell_type": "code",
   "execution_count": 25,
   "id": "df7496b0",
   "metadata": {},
   "outputs": [
    {
     "name": "stdout",
     "output_type": "stream",
     "text": [
      "Confusion Matrix: \n",
      " [[6589  138]\n",
      " [  57  444]]\n",
      "F1 Score: \n",
      " 0.8199445983379502\n",
      "Balanced Accuracy Score: \n",
      " 0.932856599867012\n",
      "All Scores: \n",
      " (array([0.99142341, 0.7628866 ]), array([0.97948565, 0.88622754]), array([0.98541838, 0.8199446 ]), array([6727,  501], dtype=int64))\n"
     ]
    }
   ],
   "source": [
    "import xgboost as xgb\n",
    "y=data['conversion']\n",
    "X=data.drop(columns=['conversion'])\n",
    "ct=ColumnTransformer([('ohecc',OneHotEncoder(sparse=False),['student_country'])],remainder='passthrough')\n",
    "X=ct.fit_transform(X)\n",
    "X_train,X_test,y_train,y_test=train_test_split(X,y,test_size=0.2,shuffle=True)\n",
    "xgfin=xgb.XGBClassifier(use_label_encoder=False,eval_metric='logloss')\n",
    "xgfin.fit(X_train,y_train)\n",
    "y_pred=xgfin.predict(X_test)\n",
    "print(\"Confusion Matrix: \\n\",confusion_matrix(y_pred,y_test))\n",
    "print(\"F1 Score: \\n\",f1_score(y_pred,y_test))\n",
    "print(\"Balanced Accuracy Score: \\n\",balanced_accuracy_score(y_pred,y_test))\n",
    "print(\"All Scores: \\n\",precision_recall_fscore_support(y_pred,y_test))"
   ]
  },
  {
   "cell_type": "code",
   "execution_count": 11,
   "id": "a4887524",
   "metadata": {},
   "outputs": [
    {
     "data": {
      "text/plain": [
       "0    33095\n",
       "1     3041\n",
       "Name: conversion, dtype: int64"
      ]
     },
     "execution_count": 11,
     "metadata": {},
     "output_type": "execute_result"
    }
   ],
   "source": [
    "data['conversion'].value_counts()"
   ]
  },
  {
   "cell_type": "markdown",
   "id": "0c551c02",
   "metadata": {},
   "source": [
    "## Random Undersampler / Oversampler"
   ]
  },
  {
   "cell_type": "markdown",
   "id": "5838816f",
   "metadata": {},
   "source": [
    "### Random Undersampler"
   ]
  },
  {
   "cell_type": "code",
   "execution_count": 10,
   "id": "2e757e0c",
   "metadata": {},
   "outputs": [],
   "source": [
    "from imblearn.under_sampling import RandomUnderSampler\n",
    "from collections import Counter\n",
    "from imblearn.over_sampling import RandomOverSampler"
   ]
  },
  {
   "cell_type": "code",
   "execution_count": 13,
   "id": "6e5a857d",
   "metadata": {},
   "outputs": [
    {
     "name": "stdout",
     "output_type": "stream",
     "text": [
      "original dataset shape: Counter({0: 26476, 1: 2432})\n",
      "Resample dataset shape Counter({0: 2432, 1: 2432})\n"
     ]
    }
   ],
   "source": [
    "rus = RandomUnderSampler(random_state=123, replacement=True) \n",
    "X_train1,y_train1 = rus.fit_resample(X_train,y_train)\n",
    "print('original dataset shape:', Counter(y_train))\n",
    "print('Resample dataset shape', Counter(y_train1))"
   ]
  },
  {
   "cell_type": "code",
   "execution_count": 26,
   "id": "89b7d642",
   "metadata": {},
   "outputs": [
    {
     "name": "stdout",
     "output_type": "stream",
     "text": [
      "[05:08:51] WARNING: C:\\Windows\\Temp\\abs_557yfx631l\\croots\\recipe\\xgboost-split_1659548953302\\work\\src\\learner.cc:1115: Starting in XGBoost 1.3.0, the default evaluation metric used with the objective 'binary:logistic' was changed from 'error' to 'logloss'. Explicitly set eval_metric if you'd like to restore the old behavior.\n",
      "Confusion Matrix: \n",
      " [[6291   38]\n",
      " [ 355  544]]\n",
      "F1 Score: \n",
      " 0.7346387575962188\n",
      "Balanced Accuracy Score: \n",
      " 0.799556344183272\n",
      "All Scores: \n",
      " (array([0.94658441, 0.9347079 ]), array([0.99399589, 0.6051168 ]), array([0.96971098, 0.73463876]), array([6329,  899], dtype=int64))\n"
     ]
    }
   ],
   "source": [
    "xgrus=xgb.XGBClassifier(use_label_encoder=False,,eval_metric='logloss')\n",
    "xgrus.fit(X_train1,y_train1)\n",
    "y_pred=xgrus.predict(X_test)\n",
    "cm=confusion_matrix(y_pred,y_test)\n",
    "F1=f1_score(y_pred,y_test)\n",
    "print(\"Confusion Matrix: \\n\",confusion_matrix(y_pred,y_test))\n",
    "print(\"F1 Score: \\n\",f1_score(y_pred,y_test))\n",
    "print(\"Balanced Accuracy Score: \\n\",balanced_accuracy_score(y_pred,y_test))\n",
    "print(\"All Scores: \\n\",precision_recall_fscore_support(y_pred,y_test))\n"
   ]
  },
  {
   "cell_type": "markdown",
   "id": "aa3387c8",
   "metadata": {},
   "source": [
    "### Oversampler"
   ]
  },
  {
   "cell_type": "code",
   "execution_count": 17,
   "id": "ded58807",
   "metadata": {},
   "outputs": [
    {
     "name": "stdout",
     "output_type": "stream",
     "text": [
      "original dataset shape: Counter({0: 26476, 1: 2432})\n",
      "Resample dataset shape Counter({0: 26476, 1: 26476})\n"
     ]
    }
   ],
   "source": [
    "rus = RandomOverSampler(random_state=123) \n",
    "X_train2,y_train2 = rus.fit_resample(X_train,y_train)\n",
    "print('original dataset shape:', Counter(y_train))\n",
    "print('Resample dataset shape', Counter(y_train2))"
   ]
  },
  {
   "cell_type": "code",
   "execution_count": 27,
   "id": "f7f87c58",
   "metadata": {},
   "outputs": [
    {
     "name": "stdout",
     "output_type": "stream",
     "text": [
      "[05:09:11] WARNING: C:\\Windows\\Temp\\abs_557yfx631l\\croots\\recipe\\xgboost-split_1659548953302\\work\\src\\learner.cc:1115: Starting in XGBoost 1.3.0, the default evaluation metric used with the objective 'binary:logistic' was changed from 'error' to 'logloss'. Explicitly set eval_metric if you'd like to restore the old behavior.\n",
      "Confusion Matrix: \n",
      " [[6502   43]\n",
      " [ 144  539]]\n",
      "F1 Score: \n",
      " 0.8521739130434782\n",
      "Balanced Accuracy Score: \n",
      " 0.8912977729358748\n",
      "All Scores: \n",
      " (array([0.97833283, 0.92611684]), array([0.9934301 , 0.78916545]), array([0.98582367, 0.85217391]), array([6545,  683], dtype=int64))\n"
     ]
    }
   ],
   "source": [
    "xgros=xgb.XGBClassifier(use_label_encoder=False,eval_metric='logloss')\n",
    "xgros.fit(X_train2,y_train2)\n",
    "y_pred=xgros.predict(X_test)\n",
    "cm=confusion_matrix(y_pred,y_test)\n",
    "F1=f1_score(y_pred,y_test)\n",
    "print(\"Confusion Matrix: \\n\",confusion_matrix(y_pred,y_test))\n",
    "print(\"F1 Score: \\n\",f1_score(y_pred,y_test))\n",
    "print(\"Balanced Accuracy Score: \\n\",balanced_accuracy_score(y_pred,y_test))\n",
    "print(\"All Scores: \\n\",precision_recall_fscore_support(y_pred,y_test))"
   ]
  },
  {
   "cell_type": "code",
   "execution_count": null,
   "id": "292eb020",
   "metadata": {},
   "outputs": [],
   "source": []
  },
  {
   "cell_type": "markdown",
   "id": "f15253ce",
   "metadata": {},
   "source": [
    "## XGBoost - short form (4 features for Tableau deployment / dashboards)"
   ]
  },
  {
   "cell_type": "code",
   "execution_count": 20,
   "id": "a8efa3ae",
   "metadata": {},
   "outputs": [
    {
     "name": "stdout",
     "output_type": "stream",
     "text": [
      "<class 'pandas.core.frame.DataFrame'>\n",
      "RangeIndex: 36136 entries, 0 to 36135\n",
      "Data columns (total 4 columns):\n",
      " #   Column             Non-Null Count  Dtype \n",
      "---  ------             --------------  ----- \n",
      " 0   student_country    36136 non-null  object\n",
      " 1   totaldays_engaged  36136 non-null  int64 \n",
      " 2   tendaysafter       36136 non-null  int64 \n",
      " 3   conversion         36136 non-null  int64 \n",
      "dtypes: int64(3), object(1)\n",
      "memory usage: 1.1+ MB\n"
     ]
    }
   ],
   "source": [
    "df=pd.read_csv('pd_data3.csv')\n",
    "df.drop(columns='Unnamed: 0',inplace=True)\n",
    "df.drop(columns=['onboard_flag'],inplace=True)\n",
    "df.info()"
   ]
  },
  {
   "cell_type": "code",
   "execution_count": 28,
   "id": "79029fbc",
   "metadata": {},
   "outputs": [
    {
     "name": "stdout",
     "output_type": "stream",
     "text": [
      "Confusion Matrix: \n",
      " [[6546  147]\n",
      " [  71  464]]\n",
      "F1 Score: \n",
      " 0.8097731239092495\n",
      "Balanced Accuracy Score: \n",
      " 0.9226632372223176\n",
      "All Scores: \n",
      " (array([0.98927006, 0.7594108 ]), array([0.97803675, 0.86728972]), array([0.98362134, 0.80977312]), array([6693,  535], dtype=int64))\n"
     ]
    }
   ],
   "source": [
    "import xgboost as xgb\n",
    "xgccfin1=xgb.XGBClassifier(use_label_encoder=False,eval_metric='logloss')\n",
    "y=df['conversion']\n",
    "X=df.drop(columns=['conversion'])\n",
    "ct1=ColumnTransformer([('ohecc',OneHotEncoder(sparse=False),['student_country'])],remainder='passthrough')\n",
    "X=ct1.fit_transform(X)\n",
    "X_train,X_test,y_train,y_test=train_test_split(X,y,test_size=0.2,shuffle=True)\n",
    " \n",
    "xgccfin1.fit(X_train,y_train)\n",
    "y_pred=xgccfin1.predict(X_test)\n",
    "\n",
    "\n",
    "print(\"Confusion Matrix: \\n\",confusion_matrix(y_pred,y_test))\n",
    "print(\"F1 Score: \\n\",f1_score(y_pred,y_test))\n",
    "print(\"Balanced Accuracy Score: \\n\",balanced_accuracy_score(y_pred,y_test))\n",
    "print(\"All Scores: \\n\",precision_recall_fscore_support(y_pred,y_test))"
   ]
  },
  {
   "cell_type": "code",
   "execution_count": 30,
   "id": "bbe81eab",
   "metadata": {},
   "outputs": [],
   "source": [
    "def predict_student_xgccfin1(a1,a2,a3):\n",
    "    \n",
    "    import pandas as pd\n",
    "    import numpy as np\n",
    "    \n",
    "    x=pd.DataFrame(np.array([[a1,a2,a3]]),columns=['student_country','totaldays_engaged','tendaysafter'])\n",
    "    X_test=ct1.transform(x) \n",
    "    y_pred2=xgccfin1.predict(X_test)[0] \n",
    "    return y_pred2.tolist()"
   ]
  },
  {
   "cell_type": "code",
   "execution_count": 31,
   "id": "5c8013ba",
   "metadata": {},
   "outputs": [],
   "source": [
    "def predict_prob_xgccfin1(a1,a2,a3):\n",
    "    \n",
    "    import pandas as pd\n",
    "    import numpy as np\n",
    "    \n",
    "    x=pd.DataFrame(np.array([[a1,a2,a3]]),columns=['student_country','totaldays_engaged','tendaysafter'])\n",
    "    X_test=ct1.transform(x) \n",
    "    y_pred2=xgccfin1.predict_proba(X_test)[0][1]\n",
    "    \n",
    "    print(\"ypred prob is \",y_pred2.tolist())\n",
    "    return y_pred2.tolist()"
   ]
  },
  {
   "cell_type": "code",
   "execution_count": 32,
   "id": "e0c620bb",
   "metadata": {},
   "outputs": [
    {
     "name": "stdout",
     "output_type": "stream",
     "text": [
      "ypred prob is  0.8556980490684509\n"
     ]
    },
    {
     "data": {
      "text/plain": [
       "0.8556980490684509"
      ]
     },
     "execution_count": 32,
     "metadata": {},
     "output_type": "execute_result"
    }
   ],
   "source": [
    "predict_prob_xgccfin1('IN',20,10)"
   ]
  },
  {
   "cell_type": "code",
   "execution_count": 33,
   "id": "86046f0d",
   "metadata": {},
   "outputs": [],
   "source": [
    "from tabpy.tabpy_tools.client import Client\n",
    "client = Client('http://localhost:9004/')"
   ]
  },
  {
   "cell_type": "code",
   "execution_count": 34,
   "id": "52397bad",
   "metadata": {},
   "outputs": [],
   "source": [
    "client.deploy('predict_student_xgccfin1',\n",
    "predict_student_xgccfin1, 'Returns prediction of student conversion'\n",
    ", override = True)"
   ]
  },
  {
   "cell_type": "code",
   "execution_count": 35,
   "id": "47f9d76d",
   "metadata": {},
   "outputs": [],
   "source": [
    "client.deploy('predict_prob_xgccfin1',\n",
    "predict_prob_xgccfin1, 'Returns prob prediction of student conversion'\n",
    ", override = True)"
   ]
  },
  {
   "cell_type": "code",
   "execution_count": 36,
   "id": "4810a2fc",
   "metadata": {},
   "outputs": [],
   "source": [
    "def predict_student_xgchart(a1,a2,a3):\n",
    "     \n",
    "    import pandas as pd\n",
    "    import numpy as np   \n",
    "    \n",
    "    \n",
    "    data={'student_country':a1,'totaldays_engaged':a2,'tendaysafter':a3}\n",
    "    \n",
    "    print(data)\n",
    "    \n",
    "    x=pd.DataFrame(data)\n",
    "    X_test=ct1.transform(x)\n",
    "    \n",
    "    print(X_test.shape) \n",
    "    \n",
    "    y_pred1=xgccfin1.predict(X_test)\n",
    "    \n",
    "    print(\"ypred is \",y_pred1)\n",
    "     \n",
    "    return y_pred1.tolist()"
   ]
  },
  {
   "cell_type": "code",
   "execution_count": 37,
   "id": "bc151911",
   "metadata": {},
   "outputs": [],
   "source": [
    "client.deploy('predict_student_xgchart',\n",
    "predict_student_xgchart, 'Returns prob prediction of student conversion'\n",
    ", override = True)"
   ]
  },
  {
   "cell_type": "code",
   "execution_count": null,
   "id": "220f543b",
   "metadata": {},
   "outputs": [],
   "source": []
  },
  {
   "cell_type": "markdown",
   "id": "902c6e5a",
   "metadata": {},
   "source": [
    "## Tensorflow - All features"
   ]
  },
  {
   "cell_type": "code",
   "execution_count": 38,
   "id": "15d39ff7",
   "metadata": {},
   "outputs": [
    {
     "name": "stdout",
     "output_type": "stream",
     "text": [
      "<class 'pandas.core.frame.DataFrame'>\n",
      "RangeIndex: 36136 entries, 0 to 36135\n",
      "Data columns (total 61 columns):\n",
      " #   Column             Non-Null Count  Dtype  \n",
      "---  ------             --------------  -----  \n",
      " 0   student_country    36136 non-null  object \n",
      " 1   totaldays_engaged  36136 non-null  int64  \n",
      " 2   courseswatched     36136 non-null  int64  \n",
      " 3   questionsasked     36136 non-null  int64  \n",
      " 4   totalminwatched    36136 non-null  float64\n",
      " 5   tendaysafter       36136 non-null  float64\n",
      " 6   fifteendaysafter   36136 non-null  float64\n",
      " 7   thirtydaysafter    36136 non-null  float64\n",
      " 8   sixtydaysafter     36136 non-null  float64\n",
      " 9   conversion         36136 non-null  int64  \n",
      " 10  2                  36136 non-null  float64\n",
      " 11  3                  36136 non-null  float64\n",
      " 12  4                  36136 non-null  float64\n",
      " 13  5                  36136 non-null  float64\n",
      " 14  7                  36136 non-null  float64\n",
      " 15  11                 36136 non-null  float64\n",
      " 16  12                 36136 non-null  float64\n",
      " 17  13                 36136 non-null  float64\n",
      " 18  14                 36136 non-null  float64\n",
      " 19  15                 36136 non-null  float64\n",
      " 20  16                 36136 non-null  float64\n",
      " 21  19                 36136 non-null  float64\n",
      " 22  20                 36136 non-null  float64\n",
      " 23  21                 36136 non-null  float64\n",
      " 24  22                 36136 non-null  float64\n",
      " 25  23                 36136 non-null  float64\n",
      " 26  24                 36136 non-null  float64\n",
      " 27  25                 36136 non-null  float64\n",
      " 28  26                 36136 non-null  float64\n",
      " 29  27                 36136 non-null  float64\n",
      " 30  28                 36136 non-null  float64\n",
      " 31  29                 36136 non-null  float64\n",
      " 32  30                 36136 non-null  float64\n",
      " 33  32                 36136 non-null  float64\n",
      " 34  33                 36136 non-null  float64\n",
      " 35  34                 36136 non-null  float64\n",
      " 36  35                 36136 non-null  float64\n",
      " 37  36                 36136 non-null  float64\n",
      " 38  37                 36136 non-null  float64\n",
      " 39  39                 36136 non-null  float64\n",
      " 40  41                 36136 non-null  float64\n",
      " 41  42                 36136 non-null  float64\n",
      " 42  43                 36136 non-null  float64\n",
      " 43  44                 36136 non-null  float64\n",
      " 44  45                 36136 non-null  float64\n",
      " 45  46                 36136 non-null  float64\n",
      " 46  48                 36136 non-null  float64\n",
      " 47  49                 36136 non-null  float64\n",
      " 48  50                 36136 non-null  float64\n",
      " 49  51                 36136 non-null  float64\n",
      " 50  52                 36136 non-null  float64\n",
      " 51  53                 36136 non-null  float64\n",
      " 52  54                 36136 non-null  float64\n",
      " 53  55                 36136 non-null  float64\n",
      " 54  56                 36136 non-null  float64\n",
      " 55  57                 36136 non-null  float64\n",
      " 56  59                 36136 non-null  float64\n",
      " 57  65                 36136 non-null  float64\n",
      " 58  66                 36136 non-null  float64\n",
      " 59  67                 36136 non-null  float64\n",
      " 60  daysafteronb       36136 non-null  float64\n",
      "dtypes: float64(56), int64(4), object(1)\n",
      "memory usage: 16.8+ MB\n"
     ]
    }
   ],
   "source": [
    "data=pd.read_csv('df_student_features_entiredata.csv')\n",
    "data.drop(columns=['Unnamed: 0','subscriptiontype','onboard_flag','daysafterpur'],inplace=True)\n",
    "data.info()"
   ]
  },
  {
   "cell_type": "code",
   "execution_count": 39,
   "id": "35b9a00a",
   "metadata": {},
   "outputs": [],
   "source": [
    "y=data['conversion']\n",
    "X=data.drop(columns=['conversion'])"
   ]
  },
  {
   "cell_type": "code",
   "execution_count": 41,
   "id": "cea4b325",
   "metadata": {},
   "outputs": [],
   "source": [
    "ct1=make_column_transformer(\n",
    "    (OneHotEncoder(sparse=False),make_column_selector(dtype_include=object)),\n",
    "(StandardScaler(),make_column_selector(dtype_exclude=object)))"
   ]
  },
  {
   "cell_type": "code",
   "execution_count": 42,
   "id": "f7759805",
   "metadata": {},
   "outputs": [],
   "source": [
    "X=ct1.fit_transform(X)\n",
    "X_train,X_test,y_train,y_test=train_test_split(X,y,test_size=0.2,shuffle=True)"
   ]
  },
  {
   "cell_type": "code",
   "execution_count": 77,
   "id": "7683df9e",
   "metadata": {},
   "outputs": [],
   "source": [
    "model_tf=tf.keras.models.Sequential([\n",
    "    tf.keras.layers.Dense(30,activation='relu',activity_regularizer=tf.keras.regularizers.L2(10e-6)),\n",
    "#     tf.keras.layers.Dense(30,activation='relu',activity_regularizer=tf.keras.regularizers.L1(10e-8)),\n",
    "    tf.keras.layers.Dense(20,activation='relu'),\n",
    "    tf.keras.layers.Dense(20,activation='relu'),\n",
    "    tf.keras.layers.Dense(1,activation='sigmoid')\n",
    "    \n",
    "])\n",
    "\n",
    "model_tf.compile(loss=tf.keras.losses.BinaryCrossentropy(),optimizer='Adam',metrics=[tf.keras.metrics.Precision()])#(class_id=1)])\n"
   ]
  },
  {
   "cell_type": "code",
   "execution_count": 78,
   "id": "4670ce5e",
   "metadata": {},
   "outputs": [],
   "source": [
    "early_stopping = tf.keras.callbacks.EarlyStopping(monitor=\"val_loss\", # watch the val loss metric\n",
    "                                                  patience=5)\n",
    " \n",
    "reduce_lr = tf.keras.callbacks.ReduceLROnPlateau(monitor=\"val_loss\",  \n",
    "                                                 factor=0.1,  \n",
    "                                                 patience=5,\n",
    "                                                 verbose=1,  \n",
    "                                                 min_lr=1e-7)\n"
   ]
  },
  {
   "cell_type": "code",
   "execution_count": 79,
   "id": "8aea95fa",
   "metadata": {},
   "outputs": [
    {
     "name": "stdout",
     "output_type": "stream",
     "text": [
      "Epoch 1/100\n",
      "904/904 [==============================] - 5s 4ms/step - loss: 0.1355 - precision_11: 0.8406 - val_loss: 0.0998 - val_precision_11: 0.8467\n",
      "Epoch 2/100\n",
      "904/904 [==============================] - 3s 4ms/step - loss: 0.0964 - precision_11: 0.8636 - val_loss: 0.0957 - val_precision_11: 0.8827\n",
      "Epoch 3/100\n",
      "904/904 [==============================] - 3s 4ms/step - loss: 0.0905 - precision_11: 0.8668 - val_loss: 0.0926 - val_precision_11: 0.8645\n",
      "Epoch 4/100\n",
      "904/904 [==============================] - 3s 4ms/step - loss: 0.0861 - precision_11: 0.8763 - val_loss: 0.0941 - val_precision_11: 0.8688\n",
      "Epoch 5/100\n",
      "904/904 [==============================] - 3s 4ms/step - loss: 0.0832 - precision_11: 0.8848 - val_loss: 0.0938 - val_precision_11: 0.8613\n",
      "Epoch 6/100\n",
      "904/904 [==============================] - 3s 4ms/step - loss: 0.0807 - precision_11: 0.8890 - val_loss: 0.0966 - val_precision_11: 0.8477\n",
      "Epoch 7/100\n",
      "904/904 [==============================] - 4s 4ms/step - loss: 0.0791 - precision_11: 0.8904 - val_loss: 0.0959 - val_precision_11: 0.8598\n",
      "Epoch 8/100\n",
      "904/904 [==============================] - 3s 4ms/step - loss: 0.0764 - precision_11: 0.9000 - val_loss: 0.0987 - val_precision_11: 0.8689\n"
     ]
    }
   ],
   "source": [
    "num_epochs=100\n",
    "hist=model_tf.fit(X_train,y_train,epochs=num_epochs,verbose=1,\n",
    "                  validation_data=(X_test,y_test),callbacks=[early_stopping])#,reduce_lr])"
   ]
  },
  {
   "cell_type": "code",
   "execution_count": 83,
   "id": "31f3da89",
   "metadata": {},
   "outputs": [
    {
     "name": "stdout",
     "output_type": "stream",
     "text": [
      "226/226 [==============================] - 1s 2ms/step\n"
     ]
    },
    {
     "data": {
      "text/plain": [
       "array([[6551,  143],\n",
       "       [  70,  464]], dtype=int64)"
      ]
     },
     "execution_count": 83,
     "metadata": {},
     "output_type": "execute_result"
    }
   ],
   "source": [
    "y_pred=tf.round(model_tf.predict(X_test))\n",
    "confusion_matrix(y_pred,y_test)"
   ]
  },
  {
   "cell_type": "code",
   "execution_count": 81,
   "id": "2f26cd05",
   "metadata": {},
   "outputs": [
    {
     "name": "stdout",
     "output_type": "stream",
     "text": [
      "Confusion Matrix: \n",
      " [[6551  143]\n",
      " [  70  464]]\n",
      "F1 Score: \n",
      " 0.8133216476774758\n",
      "Balanced Accuracy Score: \n",
      " 0.9237757217878608\n",
      "All Scores: \n",
      " (array([0.98942758, 0.76441516]), array([0.97863759, 0.86891386]), array([0.984003  , 0.81332165]), array([6694,  534], dtype=int64))\n"
     ]
    }
   ],
   "source": [
    "print(\"Confusion Matrix: \\n\",confusion_matrix(y_pred,y_test))\n",
    "print(\"F1 Score: \\n\",f1_score(y_pred,y_test))\n",
    "print(\"Balanced Accuracy Score: \\n\",balanced_accuracy_score(y_pred,y_test))\n",
    "print(\"All Scores: \\n\",precision_recall_fscore_support(y_pred,y_test))"
   ]
  },
  {
   "cell_type": "markdown",
   "id": "4e7728d1",
   "metadata": {},
   "source": [
    "### Tensorflow - short form - 3 - features - deployed in tableau"
   ]
  },
  {
   "cell_type": "code",
   "execution_count": 84,
   "id": "9f03fb74",
   "metadata": {},
   "outputs": [
    {
     "name": "stdout",
     "output_type": "stream",
     "text": [
      "<class 'pandas.core.frame.DataFrame'>\n",
      "RangeIndex: 36136 entries, 0 to 36135\n",
      "Data columns (total 4 columns):\n",
      " #   Column             Non-Null Count  Dtype \n",
      "---  ------             --------------  ----- \n",
      " 0   student_country    36136 non-null  object\n",
      " 1   totaldays_engaged  36136 non-null  int64 \n",
      " 2   tendaysafter       36136 non-null  int64 \n",
      " 3   conversion         36136 non-null  int64 \n",
      "dtypes: int64(3), object(1)\n",
      "memory usage: 1.1+ MB\n"
     ]
    }
   ],
   "source": [
    "df=pd.read_csv('pd_data3.csv')\n",
    "df.drop(columns='Unnamed: 0',inplace=True)\n",
    "df.drop(columns=['onboard_flag'],inplace=True)\n",
    "df.info()"
   ]
  },
  {
   "cell_type": "code",
   "execution_count": 85,
   "id": "7294fc15",
   "metadata": {},
   "outputs": [],
   "source": [
    "y=df['conversion']\n",
    "X=df.drop(columns=['conversion'])"
   ]
  },
  {
   "cell_type": "code",
   "execution_count": 86,
   "id": "c40f7744",
   "metadata": {},
   "outputs": [],
   "source": [
    "ct1=ColumnTransformer([('ohecc',OneHotEncoder(sparse=False),['student_country'])],remainder='passthrough')\n",
    "X=ct1.fit_transform(X)\n",
    "X_train,X_test,y_train,y_test=train_test_split(X,y,test_size=0.2,shuffle=True)"
   ]
  },
  {
   "cell_type": "code",
   "execution_count": 87,
   "id": "e601d14d",
   "metadata": {},
   "outputs": [],
   "source": [
    "model_tf=tf.keras.models.Sequential([\n",
    "    tf.keras.layers.Dense(30,activation='relu',activity_regularizer=tf.keras.regularizers.L2(10e-6)),\n",
    "#     tf.keras.layers.Dense(30,activation='relu',activity_regularizer=tf.keras.regularizers.L1(10e-8)),\n",
    "    tf.keras.layers.Dense(20,activation='relu'),\n",
    "    tf.keras.layers.Dense(20,activation='relu'),\n",
    "    tf.keras.layers.Dense(1,activation='sigmoid')\n",
    "    \n",
    "])\n",
    "\n",
    "model_tf.compile(loss=tf.keras.losses.BinaryCrossentropy(),optimizer='Adam',metrics=[tf.keras.metrics.Precision()])#(class_id=1)])\n"
   ]
  },
  {
   "cell_type": "code",
   "execution_count": 88,
   "id": "67c96c7d",
   "metadata": {},
   "outputs": [],
   "source": [
    "early_stopping = tf.keras.callbacks.EarlyStopping(monitor=\"val_loss\", # watch the val loss metric\n",
    "                                                  patience=8) \n",
    "reduce_lr = tf.keras.callbacks.ReduceLROnPlateau(monitor=\"val_loss\",  \n",
    "                                                 factor=0.1,  \n",
    "                                                 patience=6,\n",
    "                                                 verbose=1,  \n",
    "                                                 min_lr=1e-7)\n"
   ]
  },
  {
   "cell_type": "code",
   "execution_count": 89,
   "id": "4754592e",
   "metadata": {},
   "outputs": [
    {
     "name": "stdout",
     "output_type": "stream",
     "text": [
      "Epoch 1/20\n",
      "904/904 [==============================] - 5s 4ms/step - loss: 0.1955 - precision_12: 0.7997 - val_loss: 0.1198 - val_precision_12: 0.9007\n",
      "Epoch 2/20\n",
      "904/904 [==============================] - 3s 3ms/step - loss: 0.1163 - precision_12: 0.8506 - val_loss: 0.1118 - val_precision_12: 0.8574\n",
      "Epoch 3/20\n",
      "904/904 [==============================] - 3s 4ms/step - loss: 0.1085 - precision_12: 0.8590 - val_loss: 0.1119 - val_precision_12: 0.8789\n",
      "Epoch 4/20\n",
      "904/904 [==============================] - 3s 4ms/step - loss: 0.1061 - precision_12: 0.8537 - val_loss: 0.1093 - val_precision_12: 0.8601\n",
      "Epoch 5/20\n",
      "904/904 [==============================] - 4s 4ms/step - loss: 0.1110 - precision_12: 0.8389 - val_loss: 0.1113 - val_precision_12: 0.8937\n",
      "Epoch 6/20\n",
      "904/904 [==============================] - 4s 4ms/step - loss: 0.1011 - precision_12: 0.8638 - val_loss: 0.1094 - val_precision_12: 0.8352\n",
      "Epoch 7/20\n",
      "904/904 [==============================] - 3s 4ms/step - loss: 0.1008 - precision_12: 0.8594 - val_loss: 0.1061 - val_precision_12: 0.8583\n",
      "Epoch 8/20\n",
      "904/904 [==============================] - 3s 3ms/step - loss: 0.1022 - precision_12: 0.8464 - val_loss: 0.1070 - val_precision_12: 0.8927\n",
      "Epoch 9/20\n",
      "904/904 [==============================] - 3s 4ms/step - loss: 0.0991 - precision_12: 0.8564 - val_loss: 0.1427 - val_precision_12: 0.7040\n",
      "Epoch 10/20\n",
      "904/904 [==============================] - 3s 3ms/step - loss: 0.1008 - precision_12: 0.8465 - val_loss: 0.1144 - val_precision_12: 0.8920\n",
      "Epoch 11/20\n",
      "904/904 [==============================] - 3s 4ms/step - loss: 0.0963 - precision_12: 0.8580 - val_loss: 0.1045 - val_precision_12: 0.8398\n",
      "Epoch 12/20\n",
      "904/904 [==============================] - 3s 4ms/step - loss: 0.0983 - precision_12: 0.8541 - val_loss: 0.1045 - val_precision_12: 0.8644\n",
      "Epoch 13/20\n",
      "904/904 [==============================] - 4s 4ms/step - loss: 0.0950 - precision_12: 0.8568 - val_loss: 0.1053 - val_precision_12: 0.8621\n",
      "Epoch 14/20\n",
      "904/904 [==============================] - 3s 3ms/step - loss: 0.0952 - precision_12: 0.8561 - val_loss: 0.1052 - val_precision_12: 0.8533\n",
      "Epoch 15/20\n",
      "904/904 [==============================] - 3s 4ms/step - loss: 0.0942 - precision_12: 0.8616 - val_loss: 0.1079 - val_precision_12: 0.7956\n",
      "Epoch 16/20\n",
      "904/904 [==============================] - 3s 4ms/step - loss: 0.0937 - precision_12: 0.8605 - val_loss: 0.1066 - val_precision_12: 0.8049\n",
      "Epoch 17/20\n",
      "904/904 [==============================] - 4s 4ms/step - loss: 0.0932 - precision_12: 0.8550 - val_loss: 0.1059 - val_precision_12: 0.8212\n",
      "Epoch 18/20\n",
      "904/904 [==============================] - 4s 4ms/step - loss: 0.0925 - precision_12: 0.8590 - val_loss: 0.1071 - val_precision_12: 0.8263\n",
      "Epoch 19/20\n",
      "904/904 [==============================] - 4s 4ms/step - loss: 0.0940 - precision_12: 0.8528 - val_loss: 0.1063 - val_precision_12: 0.8330\n",
      "Epoch 20/20\n",
      "904/904 [==============================] - 3s 4ms/step - loss: 0.0917 - precision_12: 0.8597 - val_loss: 0.1078 - val_precision_12: 0.8533\n"
     ]
    }
   ],
   "source": [
    "num_epochs=20\n",
    "hist=model_tf.fit(X_train,y_train,epochs=num_epochs,verbose=1,validation_data=(X_test,y_test))"
   ]
  },
  {
   "cell_type": "code",
   "execution_count": 90,
   "id": "3dafef79",
   "metadata": {},
   "outputs": [
    {
     "name": "stdout",
     "output_type": "stream",
     "text": [
      "226/226 [==============================] - 1s 2ms/step\n"
     ]
    },
    {
     "data": {
      "text/plain": [
       "array([[6565,  179],\n",
       "       [  71,  413]], dtype=int64)"
      ]
     },
     "execution_count": 90,
     "metadata": {},
     "output_type": "execute_result"
    }
   ],
   "source": [
    "y_pred=tf.round(model_tf.predict(X_test))\n",
    "confusion_matrix(y_pred,y_test)"
   ]
  },
  {
   "cell_type": "code",
   "execution_count": 92,
   "id": "09d08b1a",
   "metadata": {},
   "outputs": [
    {
     "name": "stdout",
     "output_type": "stream",
     "text": [
      "Confusion Matrix: \n",
      " [[6565  179]\n",
      " [  71  413]]\n",
      "F1 Score: \n",
      " 0.7676579925650557\n",
      "Balanced Accuracy Score: \n",
      " 0.9133818368087213\n",
      "All Scores: \n",
      " (array([0.98930078, 0.69763514]), array([0.97345789, 0.85330579]), array([0.9813154 , 0.76765799]), array([6744,  484], dtype=int64))\n"
     ]
    }
   ],
   "source": [
    "print(\"Confusion Matrix: \\n\",confusion_matrix(y_pred,y_test))\n",
    "print(\"F1 Score: \\n\",f1_score(y_pred,y_test))\n",
    "print(\"Balanced Accuracy Score: \\n\",balanced_accuracy_score(y_pred,y_test))\n",
    "print(\"All Scores: \\n\",precision_recall_fscore_support(y_pred,y_test))"
   ]
  },
  {
   "cell_type": "code",
   "execution_count": 37,
   "id": "c8f5554f",
   "metadata": {},
   "outputs": [],
   "source": [
    "# from keras_pickle_wrapper import KerasPickleWrapper\n",
    "# twr=KerasPickleWrapper(model_tf)"
   ]
  },
  {
   "cell_type": "code",
   "execution_count": 38,
   "id": "d394ddf1",
   "metadata": {},
   "outputs": [
    {
     "name": "stdout",
     "output_type": "stream",
     "text": [
      "Epoch 1/20\n",
      "904/904 [==============================] - 5s 3ms/step - loss: 49.6294 - precision_1: 0.7884\n",
      "Epoch 2/20\n",
      "904/904 [==============================] - 3s 3ms/step - loss: 0.1821 - precision_1: 0.9129\n",
      "Epoch 3/20\n",
      "904/904 [==============================] - 3s 4ms/step - loss: 0.1481 - precision_1: 0.8904\n",
      "Epoch 4/20\n",
      "904/904 [==============================] - 3s 3ms/step - loss: 0.1416 - precision_1: 0.8729\n",
      "Epoch 5/20\n",
      "904/904 [==============================] - 3s 3ms/step - loss: 0.1428 - precision_1: 0.8468\n",
      "Epoch 6/20\n",
      "904/904 [==============================] - 3s 3ms/step - loss: 0.1564 - precision_1: 0.8513\n",
      "Epoch 7/20\n",
      "904/904 [==============================] - 3s 3ms/step - loss: 0.1840 - precision_1: 0.8332\n",
      "Epoch 8/20\n",
      "904/904 [==============================] - 3s 4ms/step - loss: 0.1922 - precision_1: 0.8342\n",
      "Epoch 9/20\n",
      "904/904 [==============================] - 3s 4ms/step - loss: 0.1930 - precision_1: 0.8123\n",
      "Epoch 10/20\n",
      "904/904 [==============================] - 3s 3ms/step - loss: 0.2178 - precision_1: 0.8421\n",
      "Epoch 11/20\n",
      "904/904 [==============================] - 3s 3ms/step - loss: 0.1830 - precision_1: 0.8275\n",
      "Epoch 12/20\n",
      "904/904 [==============================] - 3s 3ms/step - loss: 0.1575 - precision_1: 0.8066\n",
      "Epoch 13/20\n",
      "904/904 [==============================] - 3s 4ms/step - loss: 0.1766 - precision_1: 0.8154\n",
      "Epoch 14/20\n",
      "904/904 [==============================] - 3s 4ms/step - loss: 0.1734 - precision_1: 0.8085\n",
      "Epoch 15/20\n",
      "904/904 [==============================] - 3s 3ms/step - loss: 0.1614 - precision_1: 0.8052\n",
      "Epoch 16/20\n",
      "904/904 [==============================] - 3s 3ms/step - loss: 0.1696 - precision_1: 0.8296\n",
      "Epoch 17/20\n",
      "904/904 [==============================] - 3s 3ms/step - loss: 0.1575 - precision_1: 0.8175\n",
      "Epoch 18/20\n",
      "904/904 [==============================] - 3s 4ms/step - loss: 0.1462 - precision_1: 0.8343\n",
      "Epoch 19/20\n",
      "904/904 [==============================] - 3s 4ms/step - loss: 0.1826 - precision_1: 0.8213\n",
      "Epoch 20/20\n",
      "904/904 [==============================] - 3s 3ms/step - loss: 0.1671 - precision_1: 0.8377\n"
     ]
    },
    {
     "data": {
      "text/plain": [
       "<keras.callbacks.History at 0x2300d606a88>"
      ]
     },
     "execution_count": 38,
     "metadata": {},
     "output_type": "execute_result"
    }
   ],
   "source": [
    "# twr().fit(X_train,y_train,epochs=20)"
   ]
  },
  {
   "cell_type": "code",
   "execution_count": 94,
   "id": "ffe8283c",
   "metadata": {},
   "outputs": [],
   "source": [
    "def predict_student_keras1(a1,a2,a3):\n",
    "    import pandas as pd\n",
    "    import numpy as np\n",
    "#     import tensorflow as tf\n",
    "    # import pickle5\n",
    "    \n",
    "#     da1=pickle.dumps(twr,protocol=5)\n",
    "    \n",
    "#     tw=pickle.loads(da1)\n",
    "    \n",
    "    \n",
    "    \n",
    "    x=pd.DataFrame(np.array([[a1,a2,a3]]),columns=['student_country','totaldays_engaged','tendaysafter'])\n",
    "    X_test=ct1.transform(x)    \n",
    "     \n",
    "    y_pred1=tf.math.round(model_tf.predict(tf.convert_to_tensor(X_test,dtype=tf.float64),verbose=0)[0])\n",
    "    \n",
    "    y_pred=tf.convert_to_tensor(y_pred1, dtype=tf.float32)\n",
    "    \n",
    "    print(\"Y pred is \", y_pred)\n",
    "    \n",
    "    return float(y_pred1.numpy()[0])"
   ]
  },
  {
   "cell_type": "code",
   "execution_count": 95,
   "id": "9071666e",
   "metadata": {},
   "outputs": [
    {
     "name": "stdout",
     "output_type": "stream",
     "text": [
      "Y pred is  tf.Tensor([1.], shape=(1,), dtype=float32)\n"
     ]
    },
    {
     "data": {
      "text/plain": [
       "1.0"
      ]
     },
     "execution_count": 95,
     "metadata": {},
     "output_type": "execute_result"
    }
   ],
   "source": [
    "predict_student_keras1(\"IN\",10,20)"
   ]
  },
  {
   "cell_type": "code",
   "execution_count": 96,
   "id": "ac4e9885",
   "metadata": {},
   "outputs": [
    {
     "name": "stdout",
     "output_type": "stream",
     "text": [
      "Keras weights file (<HDF5 file \"variables.h5\" (mode r+)>) saving:\n",
      "...layers\\dense\n",
      "......vars\n",
      ".........0\n",
      ".........1\n",
      "...layers\\dense_1\n",
      "......vars\n",
      ".........0\n",
      ".........1\n",
      "...layers\\dense_2\n",
      "......vars\n",
      ".........0\n",
      ".........1\n",
      "...layers\\dense_3\n",
      "......vars\n",
      ".........0\n",
      ".........1\n",
      "...metrics\\mean\n",
      "......vars\n",
      ".........0\n",
      ".........1\n",
      "...metrics\\precision\n",
      "......vars\n",
      ".........0\n",
      ".........1\n",
      "...optimizer\n",
      "......vars\n",
      ".........0\n",
      ".........1\n",
      ".........10\n",
      ".........11\n",
      ".........12\n",
      ".........13\n",
      ".........14\n",
      ".........15\n",
      ".........16\n",
      ".........2\n",
      ".........3\n",
      ".........4\n",
      ".........5\n",
      ".........6\n",
      ".........7\n",
      ".........8\n",
      ".........9\n",
      "...vars\n",
      "Keras model archive saving:\n",
      "File Name                                             Modified             Size\n",
      "config.json                                    2022-12-01 05:49:24         2681\n",
      "metadata.json                                  2022-12-01 05:49:24           64\n",
      "variables.h5                                   2022-12-01 05:49:25       105400\n"
     ]
    }
   ],
   "source": [
    "client.deploy('predict_student_keras1',\n",
    "predict_student_keras1, 'keras Returns prediction of student conversion'\n",
    ", override = True)"
   ]
  },
  {
   "cell_type": "code",
   "execution_count": 97,
   "id": "730b78be",
   "metadata": {},
   "outputs": [],
   "source": [
    "def predict_prob_keras1(a1,a2,a3):\n",
    "    import pandas as pd\n",
    "    import numpy as np\n",
    "#     import tensorflow as tf\n",
    "    # import pickle5\n",
    "    \n",
    "#     da1=pickle.dumps(twr,protocol=5)\n",
    "    \n",
    "#     tw=pickle.loads(da1)\n",
    "    \n",
    "    \n",
    "    \n",
    "    x=pd.DataFrame(np.array([[a1,a2,a3]]),columns=['student_country','totaldays_engaged','tendaysafter'])\n",
    "    X_test=ct1.transform(x)    \n",
    "     \n",
    "    y_pred1=model_tf.predict(tf.convert_to_tensor(X_test,dtype=tf.float64),verbose=0)[0]\n",
    "    \n",
    "    print(\"yppred1 is  \",y_pred1)\n",
    "    \n",
    "    print(\"Y pred is \", y_pred1[0])\n",
    "    \n",
    "    y_pred=tf.convert_to_tensor(y_pred1, dtype=tf.float32)\n",
    "    \n",
    "    return float(y_pred.numpy()[0])"
   ]
  },
  {
   "cell_type": "code",
   "execution_count": 98,
   "id": "4b128286",
   "metadata": {},
   "outputs": [
    {
     "name": "stdout",
     "output_type": "stream",
     "text": [
      "yppred1 is   [0.93176746]\n",
      "Y pred is  0.93176746\n"
     ]
    },
    {
     "data": {
      "text/plain": [
       "0.931767463684082"
      ]
     },
     "execution_count": 98,
     "metadata": {},
     "output_type": "execute_result"
    }
   ],
   "source": [
    "predict_prob_keras1('DE',20,10)"
   ]
  },
  {
   "cell_type": "code",
   "execution_count": 99,
   "id": "b2b64203",
   "metadata": {},
   "outputs": [
    {
     "name": "stdout",
     "output_type": "stream",
     "text": [
      "Keras weights file (<HDF5 file \"variables.h5\" (mode r+)>) saving:\n",
      "...layers\\dense\n",
      "......vars\n",
      ".........0\n",
      ".........1\n",
      "...layers\\dense_1\n",
      "......vars\n",
      ".........0\n",
      ".........1\n",
      "...layers\\dense_2\n",
      "......vars\n",
      ".........0\n",
      ".........1\n",
      "...layers\\dense_3\n",
      "......vars\n",
      ".........0\n",
      ".........1\n",
      "...metrics\\mean\n",
      "......vars\n",
      ".........0\n",
      ".........1\n",
      "...metrics\\precision\n",
      "......vars\n",
      ".........0\n",
      ".........1\n",
      "...optimizer\n",
      "......vars\n",
      ".........0\n",
      ".........1\n",
      ".........10\n",
      ".........11\n",
      ".........12\n",
      ".........13\n",
      ".........14\n",
      ".........15\n",
      ".........16\n",
      ".........2\n",
      ".........3\n",
      ".........4\n",
      ".........5\n",
      ".........6\n",
      ".........7\n",
      ".........8\n",
      ".........9\n",
      "...vars\n",
      "Keras model archive saving:\n",
      "File Name                                             Modified             Size\n",
      "config.json                                    2022-12-01 05:49:49         2681\n",
      "metadata.json                                  2022-12-01 05:49:49           64\n",
      "variables.h5                                   2022-12-01 05:49:49       105400\n"
     ]
    }
   ],
   "source": [
    "client.deploy('predict_prob_keras1',\n",
    "predict_prob_keras1, 'keras Returns prediction of student conversion'\n",
    ", override = True)"
   ]
  },
  {
   "cell_type": "markdown",
   "id": "a1cef80e",
   "metadata": {},
   "source": [
    "## Autoencoder - All features"
   ]
  },
  {
   "cell_type": "code",
   "execution_count": 100,
   "id": "9d0b493d",
   "metadata": {},
   "outputs": [
    {
     "name": "stdout",
     "output_type": "stream",
     "text": [
      "<class 'pandas.core.frame.DataFrame'>\n",
      "RangeIndex: 36136 entries, 0 to 36135\n",
      "Data columns (total 61 columns):\n",
      " #   Column             Non-Null Count  Dtype  \n",
      "---  ------             --------------  -----  \n",
      " 0   student_country    36136 non-null  object \n",
      " 1   totaldays_engaged  36136 non-null  int64  \n",
      " 2   courseswatched     36136 non-null  int64  \n",
      " 3   questionsasked     36136 non-null  int64  \n",
      " 4   totalminwatched    36136 non-null  float64\n",
      " 5   tendaysafter       36136 non-null  float64\n",
      " 6   fifteendaysafter   36136 non-null  float64\n",
      " 7   thirtydaysafter    36136 non-null  float64\n",
      " 8   sixtydaysafter     36136 non-null  float64\n",
      " 9   conversion         36136 non-null  int64  \n",
      " 10  2                  36136 non-null  float64\n",
      " 11  3                  36136 non-null  float64\n",
      " 12  4                  36136 non-null  float64\n",
      " 13  5                  36136 non-null  float64\n",
      " 14  7                  36136 non-null  float64\n",
      " 15  11                 36136 non-null  float64\n",
      " 16  12                 36136 non-null  float64\n",
      " 17  13                 36136 non-null  float64\n",
      " 18  14                 36136 non-null  float64\n",
      " 19  15                 36136 non-null  float64\n",
      " 20  16                 36136 non-null  float64\n",
      " 21  19                 36136 non-null  float64\n",
      " 22  20                 36136 non-null  float64\n",
      " 23  21                 36136 non-null  float64\n",
      " 24  22                 36136 non-null  float64\n",
      " 25  23                 36136 non-null  float64\n",
      " 26  24                 36136 non-null  float64\n",
      " 27  25                 36136 non-null  float64\n",
      " 28  26                 36136 non-null  float64\n",
      " 29  27                 36136 non-null  float64\n",
      " 30  28                 36136 non-null  float64\n",
      " 31  29                 36136 non-null  float64\n",
      " 32  30                 36136 non-null  float64\n",
      " 33  32                 36136 non-null  float64\n",
      " 34  33                 36136 non-null  float64\n",
      " 35  34                 36136 non-null  float64\n",
      " 36  35                 36136 non-null  float64\n",
      " 37  36                 36136 non-null  float64\n",
      " 38  37                 36136 non-null  float64\n",
      " 39  39                 36136 non-null  float64\n",
      " 40  41                 36136 non-null  float64\n",
      " 41  42                 36136 non-null  float64\n",
      " 42  43                 36136 non-null  float64\n",
      " 43  44                 36136 non-null  float64\n",
      " 44  45                 36136 non-null  float64\n",
      " 45  46                 36136 non-null  float64\n",
      " 46  48                 36136 non-null  float64\n",
      " 47  49                 36136 non-null  float64\n",
      " 48  50                 36136 non-null  float64\n",
      " 49  51                 36136 non-null  float64\n",
      " 50  52                 36136 non-null  float64\n",
      " 51  53                 36136 non-null  float64\n",
      " 52  54                 36136 non-null  float64\n",
      " 53  55                 36136 non-null  float64\n",
      " 54  56                 36136 non-null  float64\n",
      " 55  57                 36136 non-null  float64\n",
      " 56  59                 36136 non-null  float64\n",
      " 57  65                 36136 non-null  float64\n",
      " 58  66                 36136 non-null  float64\n",
      " 59  67                 36136 non-null  float64\n",
      " 60  daysafteronb       36136 non-null  float64\n",
      "dtypes: float64(56), int64(4), object(1)\n",
      "memory usage: 16.8+ MB\n"
     ]
    }
   ],
   "source": [
    "data=pd.read_csv('df_student_features_entiredata.csv')\n",
    "data.drop(columns=['Unnamed: 0','subscriptiontype','onboard_flag','daysafterpur'],inplace=True)\n",
    "data.info()"
   ]
  },
  {
   "cell_type": "code",
   "execution_count": 101,
   "id": "b773ecba",
   "metadata": {},
   "outputs": [],
   "source": [
    "from sklearn.compose import make_column_transformer, make_column_selector\n",
    "ct1=make_column_transformer(\n",
    "    (OneHotEncoder(sparse=False),make_column_selector(dtype_include=object)),\n",
    "(StandardScaler(),make_column_selector(dtype_exclude=object)))"
   ]
  },
  {
   "cell_type": "code",
   "execution_count": 102,
   "id": "5af86a53",
   "metadata": {},
   "outputs": [],
   "source": [
    "df1=data.drop(columns=['conversion'])"
   ]
  },
  {
   "cell_type": "code",
   "execution_count": 103,
   "id": "47ab680d",
   "metadata": {},
   "outputs": [
    {
     "data": {
      "text/plain": [
       "ColumnTransformer(transformers=[('onehotencoder', OneHotEncoder(sparse=False),\n",
       "                                 <sklearn.compose._column_transformer.make_column_selector object at 0x0000012D1C1D42C8>),\n",
       "                                ('standardscaler', StandardScaler(),\n",
       "                                 <sklearn.compose._column_transformer.make_column_selector object at 0x0000012D1C1C1B88>)])"
      ]
     },
     "execution_count": 103,
     "metadata": {},
     "output_type": "execute_result"
    }
   ],
   "source": [
    "ct1.fit(df1)"
   ]
  },
  {
   "cell_type": "code",
   "execution_count": 104,
   "id": "517f4919",
   "metadata": {},
   "outputs": [],
   "source": [
    "X_train1,X_test1=train_test_split(data,test_size=0.2,shuffle=True)"
   ]
  },
  {
   "cell_type": "code",
   "execution_count": 105,
   "id": "6acdd7b5",
   "metadata": {},
   "outputs": [],
   "source": [
    "X_train1=X_train1[X_train1['conversion']==0]\n",
    "\n",
    "X_train1.drop(columns='conversion',inplace=True)\n",
    "y_test=X_test1['conversion']\n",
    "X_test1.drop(columns='conversion',inplace=True)"
   ]
  },
  {
   "cell_type": "code",
   "execution_count": 106,
   "id": "13fa7977",
   "metadata": {},
   "outputs": [],
   "source": [
    "X_train1,X_test1=ct1.transform(X_train1),ct1.transform(X_test1)"
   ]
  },
  {
   "cell_type": "code",
   "execution_count": 107,
   "id": "dfa8b048",
   "metadata": {},
   "outputs": [],
   "source": [
    "import tensorflow as tf\n",
    "from tensorflow.keras.layers import Dense\n",
    "from tensorflow.keras.models import Model\n",
    "from tensorflow.keras.layers import Dropout\n",
    "from tensorflow.keras import Sequential\n",
    "from keras import regularizers"
   ]
  },
  {
   "cell_type": "code",
   "execution_count": 108,
   "id": "50083d45",
   "metadata": {},
   "outputs": [
    {
     "data": {
      "text/plain": [
       "(26464, 240)"
      ]
     },
     "execution_count": 108,
     "metadata": {},
     "output_type": "execute_result"
    }
   ],
   "source": [
    "X_train1.shape"
   ]
  },
  {
   "cell_type": "code",
   "execution_count": 115,
   "id": "b83beb50",
   "metadata": {},
   "outputs": [],
   "source": [
    "input_dim=X_train1.shape[1]\n",
    "autoencoder1=Sequential([\n",
    "    \n",
    "       \n",
    "#     Dense(135,activation='tanh',activity_regularizer=regularizers.l1(10e-8)),\n",
    "    \n",
    "    Dense(135,activation='tanh',activity_regularizer=tf.keras.regularizers.L2(10e-6)),\n",
    "    \n",
    "    Dense(90,activation='tanh'),#activity_regularizer=regularizers.l1(10e-8)),\n",
    "     \n",
    "    Dense(45,activation='tanh'),#,activity_regularizer=regularizers.l1(10e-8)),\n",
    "    \n",
    "    \n",
    "    Dense(45,activation='relu'),\n",
    "    \n",
    "    Dense(90,activation='tanh'),\n",
    "    Dense(135,activation='tanh'),\n",
    "    Dense(input_dim,activation='sigmoid')     \n",
    "     \n",
    "])\n",
    "\n",
    "autoencoder1.compile(loss='mse',optimizer=tf.keras.optimizers.Adam(0.0007), metrics=['accuracy'])"
   ]
  },
  {
   "cell_type": "code",
   "execution_count": 116,
   "id": "cd63d425",
   "metadata": {},
   "outputs": [],
   "source": [
    "early_stopping = tf.keras.callbacks.EarlyStopping(monitor=\"val_loss\", # watch the val loss metric\n",
    "                                                  patience=8) \n",
    "reduce_lr = tf.keras.callbacks.ReduceLROnPlateau(monitor=\"val_loss\",  \n",
    "                                                 factor=0.1,  \n",
    "                                                 patience=6,\n",
    "                                                 verbose=1,  \n",
    "                                                 min_lr=1e-7)"
   ]
  },
  {
   "cell_type": "code",
   "execution_count": 117,
   "id": "e1a19dc2",
   "metadata": {},
   "outputs": [
    {
     "name": "stdout",
     "output_type": "stream",
     "text": [
      "Epoch 1/70\n",
      "827/827 [==============================] - 9s 7ms/step - loss: 0.1270 - accuracy: 0.1615 - val_loss: 0.2204 - val_accuracy: 0.2359 - lr: 7.0000e-04\n",
      "Epoch 2/70\n",
      "827/827 [==============================] - 6s 7ms/step - loss: 0.1116 - accuracy: 0.3164 - val_loss: 0.2110 - val_accuracy: 0.3983 - lr: 7.0000e-04\n",
      "Epoch 3/70\n",
      "827/827 [==============================] - 6s 7ms/step - loss: 0.1069 - accuracy: 0.4980 - val_loss: 0.2058 - val_accuracy: 0.5649 - lr: 7.0000e-04\n",
      "Epoch 4/70\n",
      "827/827 [==============================] - 7s 8ms/step - loss: 0.1044 - accuracy: 0.5890 - val_loss: 0.2045 - val_accuracy: 0.5899 - lr: 7.0000e-04\n",
      "Epoch 5/70\n",
      "827/827 [==============================] - 6s 7ms/step - loss: 0.1033 - accuracy: 0.6498 - val_loss: 0.2023 - val_accuracy: 0.7802 - lr: 7.0000e-04\n",
      "Epoch 6/70\n",
      "827/827 [==============================] - 6s 7ms/step - loss: 0.1013 - accuracy: 0.8134 - val_loss: 0.2017 - val_accuracy: 0.8020 - lr: 7.0000e-04\n",
      "Epoch 7/70\n",
      "827/827 [==============================] - 6s 8ms/step - loss: 0.1009 - accuracy: 0.8298 - val_loss: 0.2016 - val_accuracy: 0.8103 - lr: 7.0000e-04\n",
      "Epoch 8/70\n",
      "827/827 [==============================] - 6s 8ms/step - loss: 0.1007 - accuracy: 0.8543 - val_loss: 0.2008 - val_accuracy: 0.8369 - lr: 7.0000e-04\n",
      "Epoch 9/70\n",
      "827/827 [==============================] - 6s 8ms/step - loss: 0.1004 - accuracy: 0.8717 - val_loss: 0.2011 - val_accuracy: 0.8388 - lr: 7.0000e-04\n",
      "Epoch 10/70\n",
      "827/827 [==============================] - 6s 7ms/step - loss: 0.1002 - accuracy: 0.8767 - val_loss: 0.2005 - val_accuracy: 0.8442 - lr: 7.0000e-04\n",
      "Epoch 11/70\n",
      "827/827 [==============================] - 6s 7ms/step - loss: 0.1000 - accuracy: 0.8903 - val_loss: 0.2011 - val_accuracy: 0.8647 - lr: 7.0000e-04\n",
      "Epoch 12/70\n",
      "827/827 [==============================] - 6s 7ms/step - loss: 0.0999 - accuracy: 0.9037 - val_loss: 0.2007 - val_accuracy: 0.8713 - lr: 7.0000e-04\n",
      "Epoch 13/70\n",
      "827/827 [==============================] - 6s 7ms/step - loss: 0.0997 - accuracy: 0.9128 - val_loss: 0.2010 - val_accuracy: 0.8785 - lr: 7.0000e-04\n",
      "Epoch 14/70\n",
      "827/827 [==============================] - 6s 8ms/step - loss: 0.0997 - accuracy: 0.9170 - val_loss: 0.2010 - val_accuracy: 0.8836 - lr: 7.0000e-04\n",
      "Epoch 15/70\n",
      "827/827 [==============================] - 6s 7ms/step - loss: 0.0995 - accuracy: 0.9185 - val_loss: 0.2007 - val_accuracy: 0.8848 - lr: 7.0000e-04\n",
      "Epoch 16/70\n",
      "827/827 [==============================] - ETA: 0s - loss: 0.0995 - accuracy: 0.9253\n",
      "Epoch 16: ReduceLROnPlateau reducing learning rate to 6.99999975040555e-05.\n",
      "827/827 [==============================] - 6s 7ms/step - loss: 0.0995 - accuracy: 0.9253 - val_loss: 0.2006 - val_accuracy: 0.8926 - lr: 7.0000e-04\n",
      "Epoch 17/70\n",
      "827/827 [==============================] - 6s 7ms/step - loss: 0.0993 - accuracy: 0.9290 - val_loss: 0.2002 - val_accuracy: 0.8924 - lr: 7.0000e-05\n",
      "Epoch 18/70\n",
      "827/827 [==============================] - 6s 7ms/step - loss: 0.0992 - accuracy: 0.9279 - val_loss: 0.2003 - val_accuracy: 0.8911 - lr: 7.0000e-05\n",
      "Epoch 19/70\n",
      "827/827 [==============================] - 6s 7ms/step - loss: 0.0992 - accuracy: 0.9278 - val_loss: 0.2004 - val_accuracy: 0.8895 - lr: 7.0000e-05\n",
      "Epoch 20/70\n",
      "827/827 [==============================] - 6s 7ms/step - loss: 0.0992 - accuracy: 0.9279 - val_loss: 0.2005 - val_accuracy: 0.8915 - lr: 7.0000e-05\n",
      "Epoch 21/70\n",
      "827/827 [==============================] - 6s 7ms/step - loss: 0.0991 - accuracy: 0.9280 - val_loss: 0.2004 - val_accuracy: 0.8913 - lr: 7.0000e-05\n",
      "Epoch 22/70\n",
      "827/827 [==============================] - 6s 7ms/step - loss: 0.0991 - accuracy: 0.9280 - val_loss: 0.2006 - val_accuracy: 0.8886 - lr: 7.0000e-05\n",
      "Epoch 23/70\n",
      "823/827 [============================>.] - ETA: 0s - loss: 0.0991 - accuracy: 0.9270\n",
      "Epoch 23: ReduceLROnPlateau reducing learning rate to 6.999999459367246e-06.\n",
      "827/827 [==============================] - 6s 7ms/step - loss: 0.0991 - accuracy: 0.9272 - val_loss: 0.2007 - val_accuracy: 0.8899 - lr: 7.0000e-05\n",
      "Epoch 24/70\n",
      "827/827 [==============================] - 7s 8ms/step - loss: 0.0991 - accuracy: 0.9261 - val_loss: 0.2007 - val_accuracy: 0.8900 - lr: 7.0000e-06\n",
      "Epoch 25/70\n",
      "827/827 [==============================] - 6s 7ms/step - loss: 0.0991 - accuracy: 0.9263 - val_loss: 0.2007 - val_accuracy: 0.8901 - lr: 7.0000e-06\n"
     ]
    }
   ],
   "source": [
    "history=autoencoder1.fit(X_train1,X_train1, epochs=70, batch_size=32,\n",
    "                         validation_data=(X_test1,X_test1),shuffle=True,verbose=1,\n",
    "                         callbacks=[early_stopping,reduce_lr])"
   ]
  },
  {
   "cell_type": "code",
   "execution_count": 118,
   "id": "f5dd59cb",
   "metadata": {},
   "outputs": [],
   "source": [
    "# predictions = autoencoder1.predict(X_test1)\n",
    "# mse = np.mean(np.power(X_test1 - predictions, 2), axis=1)\n",
    "\n",
    "# error_df = pd.DataFrame({'reconstruction_error': mse,\n",
    "#                         'true_class': y_test})\n",
    "\n",
    "# error_df.describe()"
   ]
  },
  {
   "cell_type": "code",
   "execution_count": 128,
   "id": "8bc6ca41",
   "metadata": {},
   "outputs": [
    {
     "name": "stdout",
     "output_type": "stream",
     "text": [
      "226/226 [==============================] - 1s 4ms/step\n"
     ]
    }
   ],
   "source": [
    "predictions = autoencoder1.predict(X_test1)\n",
    "error = np.mean((X_test1 - predictions), axis=1)"
   ]
  },
  {
   "cell_type": "code",
   "execution_count": 129,
   "id": "0eac2d2b",
   "metadata": {},
   "outputs": [],
   "source": [
    "th1=np.mean(error)+np.std(error)\n",
    "th2=np.mean(error)-np.std(error)"
   ]
  },
  {
   "cell_type": "code",
   "execution_count": 131,
   "id": "cf1f55a1",
   "metadata": {},
   "outputs": [],
   "source": [
    "y_pred = [1 if (e > th1 or e < th2) else 0 for e in error]"
   ]
  },
  {
   "cell_type": "code",
   "execution_count": 132,
   "id": "406cd261",
   "metadata": {},
   "outputs": [
    {
     "name": "stdout",
     "output_type": "stream",
     "text": [
      "Confusion Matrix: \n",
      " [[6545  338]\n",
      " [  86  259]]\n",
      "F1 Score: \n",
      " 0.5498938428874734\n",
      "Balanced Accuracy Score: \n",
      " 0.8508090717099681\n",
      "All Scores: \n",
      " (array([0.98703061, 0.43383585]), array([0.95089351, 0.75072464]), array([0.96862513, 0.54989384]), array([6883,  345], dtype=int64))\n"
     ]
    }
   ],
   "source": [
    "print(\"Confusion Matrix: \\n\",confusion_matrix(y_pred,y_test))\n",
    "print(\"F1 Score: \\n\",f1_score(y_pred,y_test))\n",
    "print(\"Balanced Accuracy Score: \\n\",balanced_accuracy_score(y_pred,y_test))\n",
    "print(\"All Scores: \\n\",precision_recall_fscore_support(y_pred,y_test))"
   ]
  },
  {
   "cell_type": "code",
   "execution_count": 133,
   "id": "e228aa0e",
   "metadata": {},
   "outputs": [
    {
     "data": {
      "image/png": "[encoded data removed]",
      "text/plain": [
       "<Figure size 640x480 with 1 Axes>"
      ]
     },
     "metadata": {},
     "output_type": "display_data"
    }
   ],
   "source": [
    "import matplotlib.pyplot as plt\n",
    "pr=[]\n",
    "rc=[]\n",
    "f1=[]\n",
    "ba1=[]\n",
    "for i in np.arange(0,0.02,0.004):    \n",
    "    y_pred=[1 if e > i else 0 for e in error]\n",
    "    pr.append(precision_recall_fscore_support(y_test,y_pred)[0][1])\n",
    "    rc.append(precision_recall_fscore_support(y_test,y_pred)[1][1])\n",
    "    f1.append(precision_recall_fscore_support(y_test,y_pred)[2][1])\n",
    "    ba1.append(balanced_accuracy_score(y_test,y_pred))\n",
    "    \n",
    "plt.plot(np.arange(0,0.02,0.004),pr)\n",
    "plt.plot(np.arange(0,0.02,0.004),rc)\n",
    "plt.plot(np.arange(0,0.02,0.004),f1)\n",
    "plt.plot(np.arange(0,0.02,0.004),ba1)\n",
    "plt.legend(['precision', 'recall'], loc='upper right');"
   ]
  },
  {
   "cell_type": "code",
   "execution_count": null,
   "id": "658cae4a",
   "metadata": {},
   "outputs": [],
   "source": []
  },
  {
   "cell_type": "markdown",
   "id": "47ba6186",
   "metadata": {},
   "source": [
    "## Auto Encoder - Short form - deployed in Tableau"
   ]
  },
  {
   "cell_type": "code",
   "execution_count": 134,
   "id": "4ba03f11",
   "metadata": {},
   "outputs": [
    {
     "name": "stdout",
     "output_type": "stream",
     "text": [
      "<class 'pandas.core.frame.DataFrame'>\n",
      "RangeIndex: 36136 entries, 0 to 36135\n",
      "Data columns (total 4 columns):\n",
      " #   Column             Non-Null Count  Dtype \n",
      "---  ------             --------------  ----- \n",
      " 0   student_country    36136 non-null  object\n",
      " 1   totaldays_engaged  36136 non-null  int64 \n",
      " 2   tendaysafter       36136 non-null  int64 \n",
      " 3   conversion         36136 non-null  int64 \n",
      "dtypes: int64(3), object(1)\n",
      "memory usage: 1.1+ MB\n"
     ]
    }
   ],
   "source": [
    "df=pd.read_csv('pd_data3.csv')\n",
    "df.drop(columns='Unnamed: 0',inplace=True)\n",
    "df.drop(columns=['onboard_flag'],inplace=True)\n",
    "df.info()"
   ]
  },
  {
   "cell_type": "code",
   "execution_count": 135,
   "id": "7cc6b730",
   "metadata": {},
   "outputs": [
    {
     "data": {
      "text/plain": [
       "(26464, 183)"
      ]
     },
     "execution_count": 135,
     "metadata": {},
     "output_type": "execute_result"
    }
   ],
   "source": [
    "from sklearn.compose import make_column_transformer, make_column_selector\n",
    "ct1=make_column_transformer(\n",
    "    (OneHotEncoder(sparse=False),make_column_selector(dtype_include=object)),\n",
    "(StandardScaler(),make_column_selector(dtype_exclude=object)))\n",
    "\n",
    "df1=df.drop(columns=['conversion'])\n",
    "\n",
    "ct1.fit(df1)\n",
    "\n",
    "X_train1,X_test1=train_test_split(df,test_size=0.2,shuffle=True)\n",
    "\n",
    "X_train1=X_train1[X_train1['conversion']==0]\n",
    "\n",
    "X_train1.drop(columns='conversion',inplace=True)\n",
    "y_test=X_test1['conversion']\n",
    "X_test1.drop(columns='conversion',inplace=True)\n",
    "\n",
    "X_train1,X_test1=ct1.transform(X_train1),ct1.transform(X_test1)\n",
    "\n",
    "X_train1.shape"
   ]
  },
  {
   "cell_type": "code",
   "execution_count": 136,
   "id": "abfa6927",
   "metadata": {},
   "outputs": [],
   "source": [
    "input_dim=X_train1.shape[1]\n",
    "autoencoder1=Sequential([\n",
    "    \n",
    "       \n",
    "#     Dense(135,activation='tanh',activity_regularizer=regularizers.l1(10e-8)),\n",
    "    \n",
    "    Dense(135,activation='tanh',activity_regularizer=tf.keras.regularizers.L2(10e-6)),\n",
    "    \n",
    "    Dense(90,activation='tanh'),#activity_regularizer=regularizers.l1(10e-8)),\n",
    "     \n",
    "    Dense(45,activation='tanh'),#,activity_regularizer=regularizers.l1(10e-8)),\n",
    "    \n",
    "    \n",
    "    Dense(45,activation='relu'),\n",
    "    \n",
    "    Dense(90,activation='tanh'),\n",
    "    Dense(135,activation='tanh'),\n",
    "    Dense(input_dim,activation='sigmoid')     \n",
    "     \n",
    "])\n",
    "\n",
    "autoencoder1.compile(loss='mse',optimizer=tf.keras.optimizers.Adam(0.0007), metrics=['accuracy'])"
   ]
  },
  {
   "cell_type": "code",
   "execution_count": null,
   "id": "7c12048b",
   "metadata": {},
   "outputs": [],
   "source": [
    "early_stopping = tf.keras.callbacks.EarlyStopping(monitor=\"val_loss\", # watch the val loss metric\n",
    "                                                  patience=8) \n",
    "reduce_lr = tf.keras.callbacks.ReduceLROnPlateau(monitor=\"val_loss\",  \n",
    "                                                 factor=0.1,  \n",
    "                                                 patience=6,\n",
    "                                                 verbose=1,  \n",
    "                                                 min_lr=1e-7)"
   ]
  },
  {
   "cell_type": "code",
   "execution_count": 137,
   "id": "c4e7b518",
   "metadata": {},
   "outputs": [
    {
     "name": "stdout",
     "output_type": "stream",
     "text": [
      "Epoch 1/70\n",
      "827/827 [==============================] - 9s 8ms/step - loss: 0.0119 - accuracy: 0.2164 - val_loss: 0.0141 - val_accuracy: 0.3067 - lr: 7.0000e-04\n",
      "Epoch 2/70\n",
      "827/827 [==============================] - 7s 8ms/step - loss: 0.0049 - accuracy: 0.4336 - val_loss: 0.0127 - val_accuracy: 0.4795 - lr: 7.0000e-04\n",
      "Epoch 3/70\n",
      "827/827 [==============================] - 6s 7ms/step - loss: 0.0040 - accuracy: 0.5617 - val_loss: 0.0122 - val_accuracy: 0.5661 - lr: 7.0000e-04\n",
      "Epoch 4/70\n",
      "827/827 [==============================] - 7s 8ms/step - loss: 0.0036 - accuracy: 0.6271 - val_loss: 0.0118 - val_accuracy: 0.6188 - lr: 7.0000e-04\n",
      "Epoch 5/70\n",
      "827/827 [==============================] - 6s 7ms/step - loss: 0.0032 - accuracy: 0.7193 - val_loss: 0.0113 - val_accuracy: 0.7269 - lr: 7.0000e-04\n",
      "Epoch 6/70\n",
      "827/827 [==============================] - 6s 7ms/step - loss: 0.0028 - accuracy: 0.7905 - val_loss: 0.0110 - val_accuracy: 0.7655 - lr: 7.0000e-04\n",
      "Epoch 7/70\n",
      "827/827 [==============================] - 7s 9ms/step - loss: 0.0025 - accuracy: 0.8316 - val_loss: 0.0108 - val_accuracy: 0.8015 - lr: 7.0000e-04\n",
      "Epoch 8/70\n",
      "827/827 [==============================] - 7s 8ms/step - loss: 0.0023 - accuracy: 0.8574 - val_loss: 0.0107 - val_accuracy: 0.8222 - lr: 7.0000e-04\n",
      "Epoch 9/70\n",
      "827/827 [==============================] - 6s 7ms/step - loss: 0.0022 - accuracy: 0.8713 - val_loss: 0.0106 - val_accuracy: 0.8307 - lr: 7.0000e-04\n",
      "Epoch 10/70\n",
      "827/827 [==============================] - 6s 8ms/step - loss: 0.0021 - accuracy: 0.8847 - val_loss: 0.0104 - val_accuracy: 0.8574 - lr: 7.0000e-04\n",
      "Epoch 11/70\n",
      "827/827 [==============================] - 6s 8ms/step - loss: 0.0020 - accuracy: 0.9041 - val_loss: 0.0104 - val_accuracy: 0.8654 - lr: 7.0000e-04\n",
      "Epoch 12/70\n",
      "827/827 [==============================] - 7s 8ms/step - loss: 0.0019 - accuracy: 0.9126 - val_loss: 0.0103 - val_accuracy: 0.8708 - lr: 7.0000e-04\n",
      "Epoch 13/70\n",
      "827/827 [==============================] - 6s 8ms/step - loss: 0.0019 - accuracy: 0.9226 - val_loss: 0.0102 - val_accuracy: 0.8824 - lr: 7.0000e-04\n",
      "Epoch 14/70\n",
      "827/827 [==============================] - 6s 7ms/step - loss: 0.0019 - accuracy: 0.9313 - val_loss: 0.0102 - val_accuracy: 0.8881 - lr: 7.0000e-04\n",
      "Epoch 15/70\n",
      "827/827 [==============================] - 7s 8ms/step - loss: 0.0018 - accuracy: 0.9417 - val_loss: 0.0102 - val_accuracy: 0.8939 - lr: 7.0000e-04\n",
      "Epoch 16/70\n",
      "827/827 [==============================] - 6s 7ms/step - loss: 0.0018 - accuracy: 0.9428 - val_loss: 0.0103 - val_accuracy: 0.8879 - lr: 7.0000e-04\n",
      "Epoch 17/70\n",
      "827/827 [==============================] - 8s 9ms/step - loss: 0.0017 - accuracy: 0.9478 - val_loss: 0.0102 - val_accuracy: 0.8994 - lr: 7.0000e-04\n",
      "Epoch 18/70\n",
      "827/827 [==============================] - 7s 9ms/step - loss: 0.0017 - accuracy: 0.9516 - val_loss: 0.0101 - val_accuracy: 0.9011 - lr: 7.0000e-04\n",
      "Epoch 19/70\n",
      "827/827 [==============================] - 7s 9ms/step - loss: 0.0017 - accuracy: 0.9540 - val_loss: 0.0101 - val_accuracy: 0.9054 - lr: 7.0000e-04\n",
      "Epoch 20/70\n",
      "827/827 [==============================] - 7s 9ms/step - loss: 0.0017 - accuracy: 0.9552 - val_loss: 0.0101 - val_accuracy: 0.9059 - lr: 7.0000e-04\n",
      "Epoch 21/70\n",
      "827/827 [==============================] - 6s 8ms/step - loss: 0.0017 - accuracy: 0.9578 - val_loss: 0.0101 - val_accuracy: 0.9069 - lr: 7.0000e-04\n",
      "Epoch 22/70\n",
      "827/827 [==============================] - 6s 7ms/step - loss: 0.0017 - accuracy: 0.9583 - val_loss: 0.0103 - val_accuracy: 0.9088 - lr: 7.0000e-04\n",
      "Epoch 23/70\n",
      "827/827 [==============================] - 7s 8ms/step - loss: 0.0017 - accuracy: 0.9600 - val_loss: 0.0101 - val_accuracy: 0.9092 - lr: 7.0000e-04\n",
      "Epoch 24/70\n",
      "827/827 [==============================] - 6s 8ms/step - loss: 0.0016 - accuracy: 0.9611 - val_loss: 0.0100 - val_accuracy: 0.9102 - lr: 7.0000e-04\n",
      "Epoch 25/70\n",
      "827/827 [==============================] - 7s 9ms/step - loss: 0.0016 - accuracy: 0.9621 - val_loss: 0.0100 - val_accuracy: 0.9110 - lr: 7.0000e-04\n",
      "Epoch 26/70\n",
      "827/827 [==============================] - 8s 9ms/step - loss: 0.0016 - accuracy: 0.9622 - val_loss: 0.0101 - val_accuracy: 0.9119 - lr: 7.0000e-04\n",
      "Epoch 27/70\n",
      "824/827 [============================>.] - ETA: 0s - loss: 0.0017 - accuracy: 0.9626\n",
      "Epoch 27: ReduceLROnPlateau reducing learning rate to 6.99999975040555e-05.\n",
      "827/827 [==============================] - 6s 8ms/step - loss: 0.0016 - accuracy: 0.9627 - val_loss: 0.0100 - val_accuracy: 0.9119 - lr: 7.0000e-04\n",
      "Epoch 28/70\n",
      "827/827 [==============================] - 6s 7ms/step - loss: 0.0016 - accuracy: 0.9632 - val_loss: 0.0100 - val_accuracy: 0.9119 - lr: 7.0000e-05\n",
      "Epoch 29/70\n",
      "827/827 [==============================] - 6s 7ms/step - loss: 0.0016 - accuracy: 0.9632 - val_loss: 0.0100 - val_accuracy: 0.9119 - lr: 7.0000e-05\n",
      "Epoch 30/70\n",
      "827/827 [==============================] - 6s 7ms/step - loss: 0.0016 - accuracy: 0.9634 - val_loss: 0.0100 - val_accuracy: 0.9124 - lr: 7.0000e-05\n",
      "Epoch 31/70\n",
      "827/827 [==============================] - 6s 7ms/step - loss: 0.0016 - accuracy: 0.9642 - val_loss: 0.0100 - val_accuracy: 0.9127 - lr: 7.0000e-05\n",
      "Epoch 32/70\n",
      "827/827 [==============================] - 6s 7ms/step - loss: 0.0016 - accuracy: 0.9643 - val_loss: 0.0100 - val_accuracy: 0.9127 - lr: 7.0000e-05\n",
      "Epoch 33/70\n",
      "825/827 [============================>.] - ETA: 0s - loss: 0.0016 - accuracy: 0.9643\n",
      "Epoch 33: ReduceLROnPlateau reducing learning rate to 6.999999459367246e-06.\n",
      "827/827 [==============================] - 6s 7ms/step - loss: 0.0016 - accuracy: 0.9643 - val_loss: 0.0100 - val_accuracy: 0.9127 - lr: 7.0000e-05\n",
      "Epoch 34/70\n",
      "827/827 [==============================] - 6s 7ms/step - loss: 0.0016 - accuracy: 0.9643 - val_loss: 0.0100 - val_accuracy: 0.9127 - lr: 7.0000e-06\n",
      "Epoch 35/70\n",
      "827/827 [==============================] - 7s 8ms/step - loss: 0.0016 - accuracy: 0.9643 - val_loss: 0.0100 - val_accuracy: 0.9127 - lr: 7.0000e-06\n",
      "Epoch 36/70\n",
      "827/827 [==============================] - 6s 8ms/step - loss: 0.0016 - accuracy: 0.9643 - val_loss: 0.0100 - val_accuracy: 0.9127 - lr: 7.0000e-06\n",
      "Epoch 37/70\n",
      "827/827 [==============================] - 6s 8ms/step - loss: 0.0016 - accuracy: 0.9643 - val_loss: 0.0100 - val_accuracy: 0.9127 - lr: 7.0000e-06\n",
      "Epoch 38/70\n",
      "827/827 [==============================] - 7s 8ms/step - loss: 0.0016 - accuracy: 0.9643 - val_loss: 0.0100 - val_accuracy: 0.9127 - lr: 7.0000e-06\n",
      "Epoch 39/70\n",
      "821/827 [============================>.] - ETA: 0s - loss: 0.0016 - accuracy: 0.9643\n",
      "Epoch 39: ReduceLROnPlateau reducing learning rate to 6.999999641266187e-07.\n",
      "827/827 [==============================] - 7s 9ms/step - loss: 0.0016 - accuracy: 0.9643 - val_loss: 0.0100 - val_accuracy: 0.9127 - lr: 7.0000e-06\n",
      "Epoch 40/70\n",
      "827/827 [==============================] - 7s 8ms/step - loss: 0.0016 - accuracy: 0.9643 - val_loss: 0.0100 - val_accuracy: 0.9127 - lr: 7.0000e-07\n",
      "Epoch 41/70\n",
      "827/827 [==============================] - 6s 8ms/step - loss: 0.0016 - accuracy: 0.9643 - val_loss: 0.0100 - val_accuracy: 0.9127 - lr: 7.0000e-07\n",
      "Epoch 42/70\n",
      "827/827 [==============================] - 7s 8ms/step - loss: 0.0016 - accuracy: 0.9643 - val_loss: 0.0100 - val_accuracy: 0.9127 - lr: 7.0000e-07\n",
      "Epoch 43/70\n",
      "827/827 [==============================] - 8s 9ms/step - loss: 0.0016 - accuracy: 0.9643 - val_loss: 0.0100 - val_accuracy: 0.9127 - lr: 7.0000e-07\n",
      "Epoch 44/70\n",
      "827/827 [==============================] - 6s 8ms/step - loss: 0.0016 - accuracy: 0.9643 - val_loss: 0.0100 - val_accuracy: 0.9127 - lr: 7.0000e-07\n",
      "Epoch 45/70\n",
      "826/827 [============================>.] - ETA: 0s - loss: 0.0016 - accuracy: 0.9643\n",
      "Epoch 45: ReduceLROnPlateau reducing learning rate to 1e-07.\n",
      "827/827 [==============================] - 8s 10ms/step - loss: 0.0016 - accuracy: 0.9643 - val_loss: 0.0100 - val_accuracy: 0.9127 - lr: 7.0000e-07\n",
      "Epoch 46/70\n",
      "827/827 [==============================] - 7s 9ms/step - loss: 0.0016 - accuracy: 0.9643 - val_loss: 0.0100 - val_accuracy: 0.9127 - lr: 1.0000e-07\n",
      "Epoch 47/70\n",
      "827/827 [==============================] - 7s 8ms/step - loss: 0.0016 - accuracy: 0.9643 - val_loss: 0.0100 - val_accuracy: 0.9127 - lr: 1.0000e-07\n",
      "Epoch 48/70\n",
      "827/827 [==============================] - 6s 8ms/step - loss: 0.0016 - accuracy: 0.9643 - val_loss: 0.0100 - val_accuracy: 0.9127 - lr: 1.0000e-07\n",
      "Epoch 49/70\n",
      "827/827 [==============================] - 6s 8ms/step - loss: 0.0016 - accuracy: 0.9643 - val_loss: 0.0100 - val_accuracy: 0.9127 - lr: 1.0000e-07\n",
      "Epoch 50/70\n",
      "827/827 [==============================] - 6s 8ms/step - loss: 0.0016 - accuracy: 0.9643 - val_loss: 0.0100 - val_accuracy: 0.9127 - lr: 1.0000e-07\n",
      "Epoch 51/70\n",
      "827/827 [==============================] - 6s 8ms/step - loss: 0.0016 - accuracy: 0.9643 - val_loss: 0.0100 - val_accuracy: 0.9127 - lr: 1.0000e-07\n",
      "Epoch 52/70\n",
      "827/827 [==============================] - 6s 8ms/step - loss: 0.0016 - accuracy: 0.9643 - val_loss: 0.0100 - val_accuracy: 0.9127 - lr: 1.0000e-07\n",
      "Epoch 53/70\n",
      "827/827 [==============================] - 6s 8ms/step - loss: 0.0016 - accuracy: 0.9643 - val_loss: 0.0100 - val_accuracy: 0.9127 - lr: 1.0000e-07\n",
      "Epoch 54/70\n",
      "827/827 [==============================] - 6s 8ms/step - loss: 0.0016 - accuracy: 0.9643 - val_loss: 0.0100 - val_accuracy: 0.9127 - lr: 1.0000e-07\n",
      "Epoch 55/70\n",
      "827/827 [==============================] - 7s 8ms/step - loss: 0.0016 - accuracy: 0.9643 - val_loss: 0.0100 - val_accuracy: 0.9127 - lr: 1.0000e-07\n",
      "Epoch 56/70\n",
      "827/827 [==============================] - 7s 9ms/step - loss: 0.0016 - accuracy: 0.9643 - val_loss: 0.0100 - val_accuracy: 0.9127 - lr: 1.0000e-07\n",
      "Epoch 57/70\n",
      "827/827 [==============================] - 7s 8ms/step - loss: 0.0016 - accuracy: 0.9643 - val_loss: 0.0100 - val_accuracy: 0.9127 - lr: 1.0000e-07\n",
      "Epoch 58/70\n",
      "827/827 [==============================] - 7s 9ms/step - loss: 0.0016 - accuracy: 0.9643 - val_loss: 0.0100 - val_accuracy: 0.9127 - lr: 1.0000e-07\n",
      "Epoch 59/70\n",
      "827/827 [==============================] - 7s 9ms/step - loss: 0.0016 - accuracy: 0.9643 - val_loss: 0.0100 - val_accuracy: 0.9127 - lr: 1.0000e-07\n",
      "Epoch 60/70\n",
      "827/827 [==============================] - 7s 8ms/step - loss: 0.0016 - accuracy: 0.9643 - val_loss: 0.0100 - val_accuracy: 0.9127 - lr: 1.0000e-07\n",
      "Epoch 61/70\n",
      "827/827 [==============================] - 7s 8ms/step - loss: 0.0016 - accuracy: 0.9643 - val_loss: 0.0100 - val_accuracy: 0.9127 - lr: 1.0000e-07\n",
      "Epoch 62/70\n",
      "827/827 [==============================] - 7s 8ms/step - loss: 0.0016 - accuracy: 0.9643 - val_loss: 0.0100 - val_accuracy: 0.9127 - lr: 1.0000e-07\n",
      "Epoch 63/70\n",
      "827/827 [==============================] - 7s 8ms/step - loss: 0.0016 - accuracy: 0.9643 - val_loss: 0.0100 - val_accuracy: 0.9127 - lr: 1.0000e-07\n",
      "Epoch 64/70\n",
      "827/827 [==============================] - 7s 9ms/step - loss: 0.0016 - accuracy: 0.9643 - val_loss: 0.0100 - val_accuracy: 0.9127 - lr: 1.0000e-07\n",
      "Epoch 65/70\n",
      "827/827 [==============================] - 7s 8ms/step - loss: 0.0016 - accuracy: 0.9643 - val_loss: 0.0100 - val_accuracy: 0.9127 - lr: 1.0000e-07\n",
      "Epoch 66/70\n",
      "827/827 [==============================] - 7s 8ms/step - loss: 0.0016 - accuracy: 0.9643 - val_loss: 0.0100 - val_accuracy: 0.9127 - lr: 1.0000e-07\n",
      "Epoch 67/70\n",
      "827/827 [==============================] - 7s 8ms/step - loss: 0.0016 - accuracy: 0.9643 - val_loss: 0.0100 - val_accuracy: 0.9127 - lr: 1.0000e-07\n",
      "Epoch 68/70\n",
      "827/827 [==============================] - 7s 8ms/step - loss: 0.0016 - accuracy: 0.9643 - val_loss: 0.0100 - val_accuracy: 0.9127 - lr: 1.0000e-07\n",
      "Epoch 69/70\n",
      "827/827 [==============================] - 7s 8ms/step - loss: 0.0016 - accuracy: 0.9643 - val_loss: 0.0100 - val_accuracy: 0.9127 - lr: 1.0000e-07\n",
      "Epoch 70/70\n",
      "827/827 [==============================] - 7s 9ms/step - loss: 0.0016 - accuracy: 0.9643 - val_loss: 0.0100 - val_accuracy: 0.9127 - lr: 1.0000e-07\n"
     ]
    }
   ],
   "source": [
    "history=autoencoder1.fit(X_train1,X_train1, epochs=70, batch_size=32,\n",
    "                         validation_data=(X_test1,X_test1),shuffle=True,verbose=1,\n",
    "                         callbacks=[early_stopping,reduce_lr])"
   ]
  },
  {
   "cell_type": "code",
   "execution_count": 142,
   "id": "7a66d559",
   "metadata": {},
   "outputs": [
    {
     "name": "stdout",
     "output_type": "stream",
     "text": [
      "226/226 [==============================] - 1s 4ms/step\n",
      "Confusion Matrix: \n",
      " [[6605  365]\n",
      " [  26  232]]\n",
      "F1 Score: \n",
      " 0.5426900584795321\n",
      "Balanced Accuracy Score: \n",
      " 0.9234287589113921\n",
      "All Scores: \n",
      " (array([0.99607902, 0.38860972]), array([0.94763271, 0.89922481]), array([0.97125211, 0.54269006]), array([6970,  258], dtype=int64))\n"
     ]
    }
   ],
   "source": [
    "predictions = autoencoder1.predict(X_test1)\n",
    "error = np.mean((X_test1 - predictions), axis=1)\n",
    "\n",
    "th1=np.mean(error)+np.std(error)*2\n",
    "th2=np.mean(error)-np.std(error)*2\n",
    "\n",
    "y_pred = [1 if (e > th1 or e < th2) else 0 for e in error]\n",
    "\n",
    "print(\"Confusion Matrix: \\n\",confusion_matrix(y_pred,y_test))\n",
    "print(\"F1 Score: \\n\",f1_score(y_pred,y_test))\n",
    "print(\"Balanced Accuracy Score: \\n\",balanced_accuracy_score(y_pred,y_test))\n",
    "print(\"All Scores: \\n\",precision_recall_fscore_support(y_pred,y_test))"
   ]
  },
  {
   "cell_type": "code",
   "execution_count": 139,
   "id": "63568e93",
   "metadata": {},
   "outputs": [],
   "source": [
    "def predict_student_autoencoder(a1,a2,a3):\n",
    "    import pandas as pd\n",
    "    import numpy as np\n",
    "#     import tensorflow as tf\n",
    "    # import pickle5\n",
    "    \n",
    "#     da1=pickle.dumps(twr,protocol=5)\n",
    "    \n",
    "#     tw=pickle.loads(da1)\n",
    "    \n",
    "    \n",
    "    \n",
    "    x=pd.DataFrame(np.array([[a1,a2,a3]]),columns=['student_country','totaldays_engaged','tendaysafter'])\n",
    "    X_test=ct1.transform(x)    \n",
    "     \n",
    "#     y_pred1=tf.math.round(twr().predict(tf.convert_to_tensor(X_test,dtype=tf.float64))[0])\n",
    "\n",
    "#     y_pred1=tf.math.round(autoencoder1.predict(tf.convert_to_tensor(X_test,dtype=tf.float64))[0])\n",
    "\n",
    "\n",
    "\n",
    "    predictions = autoencoder1.predict(X_test1)\n",
    "    error = np.mean((X_test1 - predictions), axis=1)\n",
    "\n",
    "    th1=np.mean(error)+np.std(error)\n",
    "    th2=np.mean(error)-np.std(error)\n",
    "\n",
    "    y_pred = [1 if (e > th1 or e < th2) else 0 for e in error][0]\n",
    "\n",
    "\n",
    "    \n",
    "#     predictions = tf.convert_to_tensor(autoencoder1.predict(tf.convert_to_tensor(X_test,dtype=tf.float64),verbose=0)\n",
    "#                                        ,dtype=tf.float64)    \n",
    "#     mse = np.mean(np.power(X_test - predictions, 2), axis=1)\n",
    "#     threshold=0.136\n",
    "#     y_pred = [1.0 if mse > threshold else 0][0]\n",
    "    \n",
    "    print(\"y_pred is \", y_pred)\n",
    "    \n",
    "    return y_pred"
   ]
  },
  {
   "cell_type": "code",
   "execution_count": 140,
   "id": "ba7710e1",
   "metadata": {},
   "outputs": [
    {
     "name": "stdout",
     "output_type": "stream",
     "text": [
      "226/226 [==============================] - 1s 4ms/step\n",
      "y_pred is  0\n"
     ]
    },
    {
     "data": {
      "text/plain": [
       "0"
      ]
     },
     "execution_count": 140,
     "metadata": {},
     "output_type": "execute_result"
    }
   ],
   "source": [
    "predict_student_autoencoder('IN',10,20)"
   ]
  },
  {
   "cell_type": "code",
   "execution_count": 141,
   "id": "46e62dc1",
   "metadata": {},
   "outputs": [
    {
     "name": "stdout",
     "output_type": "stream",
     "text": [
      "Keras weights file (<HDF5 file \"variables.h5\" (mode r+)>) saving:\n",
      "...layers\\dense\n",
      "......vars\n",
      ".........0\n",
      ".........1\n",
      "...layers\\dense_1\n",
      "......vars\n",
      ".........0\n",
      ".........1\n",
      "...layers\\dense_2\n",
      "......vars\n",
      ".........0\n",
      ".........1\n",
      "...layers\\dense_3\n",
      "......vars\n",
      ".........0\n",
      ".........1\n",
      "...layers\\dense_4\n",
      "......vars\n",
      ".........0\n",
      ".........1\n",
      "...layers\\dense_5\n",
      "......vars\n",
      ".........0\n",
      ".........1\n",
      "...layers\\dense_6\n",
      "......vars\n",
      ".........0\n",
      ".........1\n",
      "...metrics\\mean\n",
      "......vars\n",
      ".........0\n",
      ".........1\n",
      "...metrics\\mean_metric_wrapper\n",
      "......vars\n",
      ".........0\n",
      ".........1\n",
      "...optimizer\n",
      "......vars\n",
      ".........0\n",
      ".........1\n",
      ".........10\n",
      ".........11\n",
      ".........12\n",
      ".........13\n",
      ".........14\n",
      ".........15\n",
      ".........16\n",
      ".........17\n",
      ".........18\n",
      ".........19\n",
      ".........2\n",
      ".........20\n",
      ".........21\n",
      ".........22\n",
      ".........23\n",
      ".........24\n",
      ".........25\n",
      ".........26\n",
      ".........27\n",
      ".........28\n",
      ".........3\n",
      ".........4\n",
      ".........5\n",
      ".........6\n",
      ".........7\n",
      ".........8\n",
      ".........9\n",
      "...vars\n",
      "Keras model archive saving:\n",
      "File Name                                             Modified             Size\n",
      "config.json                                    2022-12-01 06:24:23         3966\n",
      "metadata.json                                  2022-12-01 06:24:23           64\n",
      "variables.h5                                   2022-12-01 06:24:23      1053684\n"
     ]
    }
   ],
   "source": [
    "client.deploy('predict_student_autoencoder',\n",
    "predict_student_autoencoder, 'keras Returns prediction of student conversion'\n",
    ", override = True)"
   ]
  },
  {
   "cell_type": "code",
   "execution_count": null,
   "id": "d87d9834",
   "metadata": {},
   "outputs": [],
   "source": []
  },
  {
   "cell_type": "code",
   "execution_count": null,
   "id": "223e550e",
   "metadata": {},
   "outputs": [],
   "source": []
  },
  {
   "cell_type": "code",
   "execution_count": null,
   "id": "131521e8",
   "metadata": {},
   "outputs": [],
   "source": []
  }
 ],
 "metadata": {
  "kernelspec": {
   "display_name": "tabpy-env",
   "language": "python",
   "name": "tabpy-env"
  },
  "language_info": {
   "codemirror_mode": {
    "name": "ipython",
    "version": 3
   },
   "file_extension": ".py",
   "mimetype": "text/x-python",
   "name": "python",
   "nbconvert_exporter": "python",
   "pygments_lexer": "ipython3",
   "version": "3.7.15"
  }
 },
 "nbformat": 4,
 "nbformat_minor": 5
}
